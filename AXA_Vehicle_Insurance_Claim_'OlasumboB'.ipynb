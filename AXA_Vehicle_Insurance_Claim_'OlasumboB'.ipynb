{
  "nbformat": 4,
  "nbformat_minor": 0,
  "metadata": {
    "colab": {
      "name": "AXA_Vehicle_Insurance_Claim_'OlasumboB'.ipynb",
      "provenance": [],
      "collapsed_sections": [],
      "include_colab_link": true
    },
    "kernelspec": {
      "display_name": "Python 3",
      "name": "python3"
    }
  },
  "cells": [
    {
      "cell_type": "markdown",
      "metadata": {
        "id": "view-in-github",
        "colab_type": "text"
      },
      "source": [
        "<a href=\"https://colab.research.google.com/github/ola-sumbo/Car-frontend/blob/master/AXA_Vehicle_Insurance_Claim_'OlasumboB'.ipynb\" target=\"_parent\"><img src=\"https://colab.research.google.com/assets/colab-badge.svg\" alt=\"Open In Colab\"/></a>"
      ]
    },
    {
      "cell_type": "markdown",
      "metadata": {
        "id": "7OFi6KMtvOKM"
      },
      "source": [
        "**Import Libraries for Visualisation and ML**"
      ]
    },
    {
      "cell_type": "code",
      "metadata": {
        "id": "GgkVFDf-p6r0"
      },
      "source": [
        "#for data visualization\n",
        "import numpy as np # linear algebra\n",
        "import pandas as pd\n",
        "import matplotlib.pyplot as plt\n",
        "import seaborn as sns\n",
        "import datetime\n",
        "%matplotlib inline\n",
        "import missingno as mssno\n",
        "seed=45"
      ],
      "execution_count": 1,
      "outputs": []
    },
    {
      "cell_type": "code",
      "metadata": {
        "id": "wHrkKlQevbpY"
      },
      "source": [
        "#for ML\n",
        "from sklearn import preprocessing\n",
        "from sklearn.linear_model import LogisticRegression\n",
        "from sklearn.metrics import accuracy_score,confusion_matrix, roc_auc_score ,roc_curve,auc\n",
        "from sklearn.model_selection import train_test_split,cross_val_score,GridSearchCV,StratifiedKFold\n",
        "from sklearn.tree import DecisionTreeClassifier,DecisionTreeRegressor\n",
        "from sklearn.ensemble import RandomForestClassifier\n",
        "from sklearn.impute import SimpleImputer\n",
        "from sklearn.preprocessing import PolynomialFeatures\n",
        "from sklearn.preprocessing import StandardScaler\n",
        "from sklearn.feature_selection import VarianceThreshold\n",
        "from sklearn.feature_selection import SelectFromModel\n",
        "from sklearn.utils import shuffle"
      ],
      "execution_count": 2,
      "outputs": []
    },
    {
      "cell_type": "markdown",
      "metadata": {
        "id": "ZLZb5j3lv4xU"
      },
      "source": [
        "**Data Loading and Preparation**\n",
        "We load our data and explore data, this time separately"
      ]
    },
    {
      "cell_type": "code",
      "metadata": {
        "colab": {
          "resources": {
            "http://localhost:8080/nbextensions/google.colab/files.js": {
              "data": "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",
              "ok": true,
              "headers": [
                [
                  "content-type",
                  "application/javascript"
                ]
              ],
              "status": 200,
              "status_text": "OK"
            }
          },
          "base_uri": "https://localhost:8080/",
          "height": 75
        },
        "id": "Dav2ZdM549Tx",
        "outputId": "153789a2-fbd3-43cd-93d8-c692919dfc2c"
      },
      "source": [
        "from google.colab import files\n",
        "uploaded = files.upload()"
      ],
      "execution_count": 5,
      "outputs": [
        {
          "output_type": "display_data",
          "data": {
            "text/html": [
              "\n",
              "     <input type=\"file\" id=\"files-d5dff433-fe71-4c14-bdfd-ef62a51b59c0\" name=\"files[]\" multiple disabled\n",
              "        style=\"border:none\" />\n",
              "     <output id=\"result-d5dff433-fe71-4c14-bdfd-ef62a51b59c0\">\n",
              "      Upload widget is only available when the cell has been executed in the\n",
              "      current browser session. Please rerun this cell to enable.\n",
              "      </output>\n",
              "      <script src=\"/nbextensions/google.colab/files.js\"></script> "
            ],
            "text/plain": [
              "<IPython.core.display.HTML object>"
            ]
          },
          "metadata": {
            "tags": []
          }
        },
        {
          "output_type": "stream",
          "text": [
            "Saving SampleSubmission.csv to SampleSubmission.csv\n"
          ],
          "name": "stdout"
        }
      ]
    },
    {
      "cell_type": "code",
      "metadata": {
        "id": "tB19ro805_pV"
      },
      "source": [
        "train = pd.read_csv('/content/Train (1).csv')\n",
        "test = pd.read_csv('/content/Test (1).csv')"
      ],
      "execution_count": 6,
      "outputs": []
    },
    {
      "cell_type": "code",
      "metadata": {
        "id": "fYDbohXlt72S"
      },
      "source": [
        "ssn = pd.read_csv('/content/SampleSubmission.csv')"
      ],
      "execution_count": 13,
      "outputs": []
    },
    {
      "cell_type": "code",
      "metadata": {
        "id": "c-9pVxAaiCcK"
      },
      "source": [
        "# join train and test together\n",
        "ntrain = train.shape[0]\n",
        "ntest = test.shape[0]"
      ],
      "execution_count": 111,
      "outputs": []
    },
    {
      "cell_type": "code",
      "metadata": {
        "colab": {
          "base_uri": "https://localhost:8080/",
          "height": 261
        },
        "id": "IMaGUmxp6apq",
        "outputId": "5e9aaeb8-18eb-4d33-bd99-1f2d22e7428c"
      },
      "source": [
        "#Displaying Files\n",
        "train.head()"
      ],
      "execution_count": null,
      "outputs": [
        {
          "output_type": "execute_result",
          "data": {
            "text/html": [
              "<div>\n",
              "<style scoped>\n",
              "    .dataframe tbody tr th:only-of-type {\n",
              "        vertical-align: middle;\n",
              "    }\n",
              "\n",
              "    .dataframe tbody tr th {\n",
              "        vertical-align: top;\n",
              "    }\n",
              "\n",
              "    .dataframe thead th {\n",
              "        text-align: right;\n",
              "    }\n",
              "</style>\n",
              "<table border=\"1\" class=\"dataframe\">\n",
              "  <thead>\n",
              "    <tr style=\"text-align: right;\">\n",
              "      <th></th>\n",
              "      <th>ID</th>\n",
              "      <th>Policy Start Date</th>\n",
              "      <th>Policy End Date</th>\n",
              "      <th>Gender</th>\n",
              "      <th>Age</th>\n",
              "      <th>First Transaction Date</th>\n",
              "      <th>No_Pol</th>\n",
              "      <th>Car_Category</th>\n",
              "      <th>Subject_Car_Colour</th>\n",
              "      <th>Subject_Car_Make</th>\n",
              "      <th>LGA_Name</th>\n",
              "      <th>State</th>\n",
              "      <th>ProductName</th>\n",
              "      <th>target</th>\n",
              "    </tr>\n",
              "  </thead>\n",
              "  <tbody>\n",
              "    <tr>\n",
              "      <th>0</th>\n",
              "      <td>0040R73</td>\n",
              "      <td>2010-05-14</td>\n",
              "      <td>2011-05-13</td>\n",
              "      <td>Male</td>\n",
              "      <td>30</td>\n",
              "      <td>2010-05-14</td>\n",
              "      <td>1</td>\n",
              "      <td>Saloon</td>\n",
              "      <td>Black</td>\n",
              "      <td>TOYOTA</td>\n",
              "      <td>NaN</td>\n",
              "      <td>NaN</td>\n",
              "      <td>Car Classic</td>\n",
              "      <td>0</td>\n",
              "    </tr>\n",
              "    <tr>\n",
              "      <th>1</th>\n",
              "      <td>0046BNK</td>\n",
              "      <td>2010-11-29</td>\n",
              "      <td>2011-11-28</td>\n",
              "      <td>Female</td>\n",
              "      <td>79</td>\n",
              "      <td>2010-11-29</td>\n",
              "      <td>1</td>\n",
              "      <td>JEEP</td>\n",
              "      <td>Grey</td>\n",
              "      <td>TOYOTA</td>\n",
              "      <td>NaN</td>\n",
              "      <td>NaN</td>\n",
              "      <td>Car Classic</td>\n",
              "      <td>1</td>\n",
              "    </tr>\n",
              "    <tr>\n",
              "      <th>2</th>\n",
              "      <td>005QMC3</td>\n",
              "      <td>2010-03-21</td>\n",
              "      <td>2011-03-20</td>\n",
              "      <td>Male</td>\n",
              "      <td>43</td>\n",
              "      <td>2010-03-21</td>\n",
              "      <td>1</td>\n",
              "      <td>Saloon</td>\n",
              "      <td>Red</td>\n",
              "      <td>TOYOTA</td>\n",
              "      <td>NaN</td>\n",
              "      <td>NaN</td>\n",
              "      <td>Car Classic</td>\n",
              "      <td>0</td>\n",
              "    </tr>\n",
              "    <tr>\n",
              "      <th>3</th>\n",
              "      <td>0079OHW</td>\n",
              "      <td>2010-08-21</td>\n",
              "      <td>2011-08-20</td>\n",
              "      <td>Male</td>\n",
              "      <td>2</td>\n",
              "      <td>2010-08-21</td>\n",
              "      <td>1</td>\n",
              "      <td>NaN</td>\n",
              "      <td>NaN</td>\n",
              "      <td>NaN</td>\n",
              "      <td>NaN</td>\n",
              "      <td>NaN</td>\n",
              "      <td>CarSafe</td>\n",
              "      <td>0</td>\n",
              "    </tr>\n",
              "    <tr>\n",
              "      <th>4</th>\n",
              "      <td>00BRP63</td>\n",
              "      <td>2010-08-29</td>\n",
              "      <td>2010-12-31</td>\n",
              "      <td>Entity</td>\n",
              "      <td>20</td>\n",
              "      <td>2010-08-29</td>\n",
              "      <td>3</td>\n",
              "      <td>NaN</td>\n",
              "      <td>NaN</td>\n",
              "      <td>NaN</td>\n",
              "      <td>Lagos</td>\n",
              "      <td>Lagos</td>\n",
              "      <td>Muuve</td>\n",
              "      <td>1</td>\n",
              "    </tr>\n",
              "  </tbody>\n",
              "</table>\n",
              "</div>"
            ],
            "text/plain": [
              "        ID Policy Start Date Policy End Date  ...  State  ProductName target\n",
              "0  0040R73        2010-05-14      2011-05-13  ...    NaN  Car Classic      0\n",
              "1  0046BNK        2010-11-29      2011-11-28  ...    NaN  Car Classic      1\n",
              "2  005QMC3        2010-03-21      2011-03-20  ...    NaN  Car Classic      0\n",
              "3  0079OHW        2010-08-21      2011-08-20  ...    NaN      CarSafe      0\n",
              "4  00BRP63        2010-08-29      2010-12-31  ...  Lagos        Muuve      1\n",
              "\n",
              "[5 rows x 14 columns]"
            ]
          },
          "metadata": {
            "tags": []
          },
          "execution_count": 9
        }
      ]
    },
    {
      "cell_type": "code",
      "metadata": {
        "colab": {
          "base_uri": "https://localhost:8080/",
          "height": 330
        },
        "id": "84REvVrq6dT5",
        "outputId": "c893d8b8-872a-4a48-8503-3e1abadcba2e"
      },
      "source": [
        "# display test\n",
        "test.head()"
      ],
      "execution_count": 8,
      "outputs": [
        {
          "output_type": "execute_result",
          "data": {
            "text/html": [
              "<div>\n",
              "<style scoped>\n",
              "    .dataframe tbody tr th:only-of-type {\n",
              "        vertical-align: middle;\n",
              "    }\n",
              "\n",
              "    .dataframe tbody tr th {\n",
              "        vertical-align: top;\n",
              "    }\n",
              "\n",
              "    .dataframe thead th {\n",
              "        text-align: right;\n",
              "    }\n",
              "</style>\n",
              "<table border=\"1\" class=\"dataframe\">\n",
              "  <thead>\n",
              "    <tr style=\"text-align: right;\">\n",
              "      <th></th>\n",
              "      <th>ID</th>\n",
              "      <th>Policy Start Date</th>\n",
              "      <th>Policy End Date</th>\n",
              "      <th>Gender</th>\n",
              "      <th>Age</th>\n",
              "      <th>First Transaction Date</th>\n",
              "      <th>No_Pol</th>\n",
              "      <th>Car_Category</th>\n",
              "      <th>Subject_Car_Colour</th>\n",
              "      <th>Subject_Car_Make</th>\n",
              "      <th>LGA_Name</th>\n",
              "      <th>State</th>\n",
              "      <th>ProductName</th>\n",
              "    </tr>\n",
              "  </thead>\n",
              "  <tbody>\n",
              "    <tr>\n",
              "      <th>0</th>\n",
              "      <td>009D84L</td>\n",
              "      <td>2010-04-24</td>\n",
              "      <td>2011-03-27</td>\n",
              "      <td>NO GENDER</td>\n",
              "      <td>25</td>\n",
              "      <td>2010-04-24</td>\n",
              "      <td>1</td>\n",
              "      <td>NaN</td>\n",
              "      <td>As Attached</td>\n",
              "      <td>Iveco</td>\n",
              "      <td>Victoria Island</td>\n",
              "      <td>Lagos</td>\n",
              "      <td>CVTP</td>\n",
              "    </tr>\n",
              "    <tr>\n",
              "      <th>1</th>\n",
              "      <td>01DO2EQ</td>\n",
              "      <td>2010-01-01</td>\n",
              "      <td>2010-12-31</td>\n",
              "      <td>NaN</td>\n",
              "      <td>120</td>\n",
              "      <td>2010-01-01</td>\n",
              "      <td>4</td>\n",
              "      <td>NaN</td>\n",
              "      <td>As Attached</td>\n",
              "      <td>TOYOTA</td>\n",
              "      <td>Victoria Island</td>\n",
              "      <td>Lagos</td>\n",
              "      <td>Muuve</td>\n",
              "    </tr>\n",
              "    <tr>\n",
              "      <th>2</th>\n",
              "      <td>01QM0NU</td>\n",
              "      <td>2010-10-23</td>\n",
              "      <td>2011-10-22</td>\n",
              "      <td>Female</td>\n",
              "      <td>46</td>\n",
              "      <td>2010-10-23</td>\n",
              "      <td>1</td>\n",
              "      <td>NaN</td>\n",
              "      <td>NaN</td>\n",
              "      <td>Ford</td>\n",
              "      <td>Abuja Municipal</td>\n",
              "      <td>Abuja-Municipal</td>\n",
              "      <td>Car Classic</td>\n",
              "    </tr>\n",
              "    <tr>\n",
              "      <th>3</th>\n",
              "      <td>024NJLZ</td>\n",
              "      <td>2010-10-14</td>\n",
              "      <td>2011-10-13</td>\n",
              "      <td>Male</td>\n",
              "      <td>32</td>\n",
              "      <td>2010-10-14</td>\n",
              "      <td>1</td>\n",
              "      <td>NaN</td>\n",
              "      <td>NaN</td>\n",
              "      <td>NaN</td>\n",
              "      <td>Kosofe</td>\n",
              "      <td>Benue</td>\n",
              "      <td>Car Classic</td>\n",
              "    </tr>\n",
              "    <tr>\n",
              "      <th>4</th>\n",
              "      <td>02BYET3</td>\n",
              "      <td>2010-09-16</td>\n",
              "      <td>2010-12-31</td>\n",
              "      <td>NaN</td>\n",
              "      <td>120</td>\n",
              "      <td>2010-09-16</td>\n",
              "      <td>4</td>\n",
              "      <td>NaN</td>\n",
              "      <td>NaN</td>\n",
              "      <td>TOYOTA</td>\n",
              "      <td>Victoria Island</td>\n",
              "      <td>Lagos</td>\n",
              "      <td>Muuve</td>\n",
              "    </tr>\n",
              "  </tbody>\n",
              "</table>\n",
              "</div>"
            ],
            "text/plain": [
              "        ID Policy Start Date  ...            State  ProductName\n",
              "0  009D84L        2010-04-24  ...            Lagos         CVTP\n",
              "1  01DO2EQ        2010-01-01  ...            Lagos        Muuve\n",
              "2  01QM0NU        2010-10-23  ...  Abuja-Municipal  Car Classic\n",
              "3  024NJLZ        2010-10-14  ...            Benue  Car Classic\n",
              "4  02BYET3        2010-09-16  ...            Lagos        Muuve\n",
              "\n",
              "[5 rows x 13 columns]"
            ]
          },
          "metadata": {
            "tags": []
          },
          "execution_count": 8
        }
      ]
    },
    {
      "cell_type": "code",
      "metadata": {
        "colab": {
          "base_uri": "https://localhost:8080/"
        },
        "id": "ukoJQ3VV6zUe",
        "outputId": "89ed545b-08cb-4a3a-c0b6-afd2a5b6ecdb"
      },
      "source": [
        "#Number of rows and columns\n",
        "train.shape\n",
        "#test.shape"
      ],
      "execution_count": 9,
      "outputs": [
        {
          "output_type": "execute_result",
          "data": {
            "text/plain": [
              "(12079, 14)"
            ]
          },
          "metadata": {
            "tags": []
          },
          "execution_count": 9
        }
      ]
    },
    {
      "cell_type": "code",
      "metadata": {
        "colab": {
          "base_uri": "https://localhost:8080/",
          "height": 300
        },
        "id": "VrTccSAK683D",
        "outputId": "8d0bebe4-c1c6-45a9-b8e1-711e300cf1f9"
      },
      "source": [
        "#Description\n",
        "train.describe()"
      ],
      "execution_count": 10,
      "outputs": [
        {
          "output_type": "execute_result",
          "data": {
            "text/html": [
              "<div>\n",
              "<style scoped>\n",
              "    .dataframe tbody tr th:only-of-type {\n",
              "        vertical-align: middle;\n",
              "    }\n",
              "\n",
              "    .dataframe tbody tr th {\n",
              "        vertical-align: top;\n",
              "    }\n",
              "\n",
              "    .dataframe thead th {\n",
              "        text-align: right;\n",
              "    }\n",
              "</style>\n",
              "<table border=\"1\" class=\"dataframe\">\n",
              "  <thead>\n",
              "    <tr style=\"text-align: right;\">\n",
              "      <th></th>\n",
              "      <th>Age</th>\n",
              "      <th>No_Pol</th>\n",
              "      <th>target</th>\n",
              "    </tr>\n",
              "  </thead>\n",
              "  <tbody>\n",
              "    <tr>\n",
              "      <th>count</th>\n",
              "      <td>12079.000000</td>\n",
              "      <td>12079.000000</td>\n",
              "      <td>12079.000000</td>\n",
              "    </tr>\n",
              "    <tr>\n",
              "      <th>mean</th>\n",
              "      <td>42.234539</td>\n",
              "      <td>1.307227</td>\n",
              "      <td>0.120457</td>\n",
              "    </tr>\n",
              "    <tr>\n",
              "      <th>std</th>\n",
              "      <td>97.492565</td>\n",
              "      <td>0.733085</td>\n",
              "      <td>0.325509</td>\n",
              "    </tr>\n",
              "    <tr>\n",
              "      <th>min</th>\n",
              "      <td>-6099.000000</td>\n",
              "      <td>1.000000</td>\n",
              "      <td>0.000000</td>\n",
              "    </tr>\n",
              "    <tr>\n",
              "      <th>25%</th>\n",
              "      <td>35.000000</td>\n",
              "      <td>1.000000</td>\n",
              "      <td>0.000000</td>\n",
              "    </tr>\n",
              "    <tr>\n",
              "      <th>50%</th>\n",
              "      <td>41.000000</td>\n",
              "      <td>1.000000</td>\n",
              "      <td>0.000000</td>\n",
              "    </tr>\n",
              "    <tr>\n",
              "      <th>75%</th>\n",
              "      <td>50.000000</td>\n",
              "      <td>1.000000</td>\n",
              "      <td>0.000000</td>\n",
              "    </tr>\n",
              "    <tr>\n",
              "      <th>max</th>\n",
              "      <td>320.000000</td>\n",
              "      <td>10.000000</td>\n",
              "      <td>1.000000</td>\n",
              "    </tr>\n",
              "  </tbody>\n",
              "</table>\n",
              "</div>"
            ],
            "text/plain": [
              "                Age        No_Pol        target\n",
              "count  12079.000000  12079.000000  12079.000000\n",
              "mean      42.234539      1.307227      0.120457\n",
              "std       97.492565      0.733085      0.325509\n",
              "min    -6099.000000      1.000000      0.000000\n",
              "25%       35.000000      1.000000      0.000000\n",
              "50%       41.000000      1.000000      0.000000\n",
              "75%       50.000000      1.000000      0.000000\n",
              "max      320.000000     10.000000      1.000000"
            ]
          },
          "metadata": {
            "tags": []
          },
          "execution_count": 10
        }
      ]
    },
    {
      "cell_type": "code",
      "metadata": {
        "colab": {
          "base_uri": "https://localhost:8080/"
        },
        "id": "dcwMRtcg7Jrb",
        "outputId": "162115b8-6de9-40e3-ef9d-d85aa7d9a821"
      },
      "source": [
        "#Data Types\n",
        "train.info()"
      ],
      "execution_count": 11,
      "outputs": [
        {
          "output_type": "stream",
          "text": [
            "<class 'pandas.core.frame.DataFrame'>\n",
            "RangeIndex: 12079 entries, 0 to 12078\n",
            "Data columns (total 14 columns):\n",
            " #   Column                  Non-Null Count  Dtype \n",
            "---  ------                  --------------  ----- \n",
            " 0   ID                      12079 non-null  object\n",
            " 1   Policy Start Date       12079 non-null  object\n",
            " 2   Policy End Date         12079 non-null  object\n",
            " 3   Gender                  11720 non-null  object\n",
            " 4   Age                     12079 non-null  int64 \n",
            " 5   First Transaction Date  12079 non-null  object\n",
            " 6   No_Pol                  12079 non-null  int64 \n",
            " 7   Car_Category            8341 non-null   object\n",
            " 8   Subject_Car_Colour      5117 non-null   object\n",
            " 9   Subject_Car_Make        9603 non-null   object\n",
            " 10  LGA_Name                5603 non-null   object\n",
            " 11  State                   5591 non-null   object\n",
            " 12  ProductName             12079 non-null  object\n",
            " 13  target                  12079 non-null  int64 \n",
            "dtypes: int64(3), object(11)\n",
            "memory usage: 1.3+ MB\n"
          ],
          "name": "stdout"
        }
      ]
    },
    {
      "cell_type": "markdown",
      "metadata": {
        "id": "LghD5ulJ7O5X"
      },
      "source": [
        "**Finding Null Values in the dataset**"
      ]
    },
    {
      "cell_type": "code",
      "metadata": {
        "colab": {
          "base_uri": "https://localhost:8080/"
        },
        "id": "vY-jcG4S7OHV",
        "outputId": "a9365e8f-aa73-4d7f-a151-2a30fad0d52a"
      },
      "source": [
        "#Finding the nul values as null value and filling with interpolate\n",
        "train.isnull().sum()"
      ],
      "execution_count": 12,
      "outputs": [
        {
          "output_type": "execute_result",
          "data": {
            "text/plain": [
              "ID                           0\n",
              "Policy Start Date            0\n",
              "Policy End Date              0\n",
              "Gender                     359\n",
              "Age                          0\n",
              "First Transaction Date       0\n",
              "No_Pol                       0\n",
              "Car_Category              3738\n",
              "Subject_Car_Colour        6962\n",
              "Subject_Car_Make          2476\n",
              "LGA_Name                  6476\n",
              "State                     6488\n",
              "ProductName                  0\n",
              "target                       0\n",
              "dtype: int64"
            ]
          },
          "metadata": {
            "tags": []
          },
          "execution_count": 12
        }
      ]
    },
    {
      "cell_type": "code",
      "metadata": {
        "colab": {
          "base_uri": "https://localhost:8080/"
        },
        "id": "SP0CTnVCFEmB",
        "outputId": "0ba83b2e-786e-4c17-b807-483ecafd5d3b"
      },
      "source": [
        "# Code to get number of categories in missing value columns\n",
        "print(\"Number of Categories in: \")\n",
        "for ColName in train[['State','Gender','Car_Category', 'Subject_Car_Colour', 'Subject_Car_Make','LGA_Name','target']]:\n",
        "  print(\"{} = {}\".format(ColName, len(train[ColName].unique())))"
      ],
      "execution_count": 14,
      "outputs": [
        {
          "output_type": "stream",
          "text": [
            "Number of Categories in: \n",
            "State = 112\n",
            "Gender = 8\n",
            "Car_Category = 17\n",
            "Subject_Car_Colour = 46\n",
            "Subject_Car_Make = 75\n",
            "LGA_Name = 259\n",
            "target = 2\n"
          ],
          "name": "stdout"
        }
      ]
    },
    {
      "cell_type": "code",
      "metadata": {
        "colab": {
          "base_uri": "https://localhost:8080/"
        },
        "id": "chVseAXERpMF",
        "outputId": "d5db99df-95ef-401e-d45f-fa9e02ffc064"
      },
      "source": [
        "train.target.unique()"
      ],
      "execution_count": 15,
      "outputs": [
        {
          "output_type": "execute_result",
          "data": {
            "text/plain": [
              "array([0, 1])"
            ]
          },
          "metadata": {
            "tags": []
          },
          "execution_count": 15
        }
      ]
    },
    {
      "cell_type": "markdown",
      "metadata": {
        "id": "UgznlMfETwb1"
      },
      "source": [
        "**Guide to missing data dealings[link text](https://medium.com/analytics-vidhya/ways-to-handle-categorical-column-missing-data-its-implementations-15dc4a56893)**\n",
        "\n",
        "Dealing with missing data by creating a new category to avoid variance inflation."
      ]
    },
    {
      "cell_type": "code",
      "metadata": {
        "id": "VeJ0tZs6-vhk"
      },
      "source": [
        "#Frequent Categorical Imputation another method for class purposes \n",
        "#1. Function to replace NAN values with mode value\n",
        "#def impute_nan_most_frequent_category(Dataframe,ColName):\n",
        "    # .mode()[0] - gives first category name\n",
        "     #most_frequent_category=Dataframe[ColName].mode()[0]\n",
        "    \n",
        "    # replace nan values with most occured category\n",
        "     #Dataframe[ColName + \"_Imputed\"] = Dataframe[ColName]\n",
        "     #Dataframe[ColName + \"_Imputed\"].fillna(most_frequent_category,inplace=True)"
      ],
      "execution_count": null,
      "outputs": []
    },
    {
      "cell_type": "code",
      "metadata": {
        "id": "7YJUw32dHx0P"
      },
      "source": [
        "#2. Call function to impute most occured category\n",
        "#for Columns in ['State','Gender','Car_Category', 'Subject_Car_Colour', 'Subject_Car_Make','LGA_Name','target']:\n",
        "  #impute_nan_most_frequent_category(all_data,Columns)\n",
        "    \n",
        "# Display imputed result\n",
        "#all_data[['State','State_Imputed','Gender','Gender_Imputed','Car_Category',\n",
        "       #'Car_Category_Imputed', 'Subject_Car_Colour','Subject_Car_Colour_Imputed', 'Subject_Car_Make_Imputed','Subject_Car_Make_Imputed','LGA_Name','LGA_Name_Imputed','target', 'target_Imputed']].head(10)\n",
        "\n",
        "#all_data "
      ],
      "execution_count": null,
      "outputs": []
    },
    {
      "cell_type": "code",
      "metadata": {
        "id": "V8CsOMK5KK1P"
      },
      "source": [
        "#3. Drop actual columns\n",
        "#all_data = all_data.drop(['State','Gender','Car_Category', 'Subject_Car_Colour','target' ,'Subject_Car_Make','LGA_Name'], axis = 1)"
      ],
      "execution_count": null,
      "outputs": []
    },
    {
      "cell_type": "markdown",
      "metadata": {
        "id": "VBQd1ZUSYH1T"
      },
      "source": [
        "**By Creating another category begins**"
      ]
    },
    {
      "cell_type": "code",
      "metadata": {
        "colab": {
          "base_uri": "https://localhost:8080/",
          "height": 363
        },
        "id": "t3UkalP8YSVj",
        "outputId": "250d4ff2-14fa-4f6f-9324-4595784d73fe"
      },
      "source": [
        "#1. Function to impute null value with new category\n",
        "def impute_nan_create_category(train,ColName):\n",
        "     train[ColName] = np.where(train[ColName].isnull(),\"Unknown\",train[ColName])\n",
        "## Call function to create new category for variables\n",
        "for Columns in ['State','Gender','Car_Category', 'Subject_Car_Colour' ,'Subject_Car_Make','LGA_Name']:\n",
        "    impute_nan_create_category(train,Columns)\n",
        "#2. Display result\n",
        "train[['State','Gender','Car_Category', 'Subject_Car_Colour','Subject_Car_Make','LGA_Name']].head(10)"
      ],
      "execution_count": 16,
      "outputs": [
        {
          "output_type": "execute_result",
          "data": {
            "text/html": [
              "<div>\n",
              "<style scoped>\n",
              "    .dataframe tbody tr th:only-of-type {\n",
              "        vertical-align: middle;\n",
              "    }\n",
              "\n",
              "    .dataframe tbody tr th {\n",
              "        vertical-align: top;\n",
              "    }\n",
              "\n",
              "    .dataframe thead th {\n",
              "        text-align: right;\n",
              "    }\n",
              "</style>\n",
              "<table border=\"1\" class=\"dataframe\">\n",
              "  <thead>\n",
              "    <tr style=\"text-align: right;\">\n",
              "      <th></th>\n",
              "      <th>State</th>\n",
              "      <th>Gender</th>\n",
              "      <th>Car_Category</th>\n",
              "      <th>Subject_Car_Colour</th>\n",
              "      <th>Subject_Car_Make</th>\n",
              "      <th>LGA_Name</th>\n",
              "    </tr>\n",
              "  </thead>\n",
              "  <tbody>\n",
              "    <tr>\n",
              "      <th>0</th>\n",
              "      <td>Unknown</td>\n",
              "      <td>Male</td>\n",
              "      <td>Saloon</td>\n",
              "      <td>Black</td>\n",
              "      <td>TOYOTA</td>\n",
              "      <td>Unknown</td>\n",
              "    </tr>\n",
              "    <tr>\n",
              "      <th>1</th>\n",
              "      <td>Unknown</td>\n",
              "      <td>Female</td>\n",
              "      <td>JEEP</td>\n",
              "      <td>Grey</td>\n",
              "      <td>TOYOTA</td>\n",
              "      <td>Unknown</td>\n",
              "    </tr>\n",
              "    <tr>\n",
              "      <th>2</th>\n",
              "      <td>Unknown</td>\n",
              "      <td>Male</td>\n",
              "      <td>Saloon</td>\n",
              "      <td>Red</td>\n",
              "      <td>TOYOTA</td>\n",
              "      <td>Unknown</td>\n",
              "    </tr>\n",
              "    <tr>\n",
              "      <th>3</th>\n",
              "      <td>Unknown</td>\n",
              "      <td>Male</td>\n",
              "      <td>Unknown</td>\n",
              "      <td>Unknown</td>\n",
              "      <td>Unknown</td>\n",
              "      <td>Unknown</td>\n",
              "    </tr>\n",
              "    <tr>\n",
              "      <th>4</th>\n",
              "      <td>Lagos</td>\n",
              "      <td>Entity</td>\n",
              "      <td>Unknown</td>\n",
              "      <td>Unknown</td>\n",
              "      <td>Unknown</td>\n",
              "      <td>Lagos</td>\n",
              "    </tr>\n",
              "    <tr>\n",
              "      <th>5</th>\n",
              "      <td>Unknown</td>\n",
              "      <td>Male</td>\n",
              "      <td>Unknown</td>\n",
              "      <td>Unknown</td>\n",
              "      <td>Unknown</td>\n",
              "      <td>Unknown</td>\n",
              "    </tr>\n",
              "    <tr>\n",
              "      <th>6</th>\n",
              "      <td>Lagos</td>\n",
              "      <td>Female</td>\n",
              "      <td>Unknown</td>\n",
              "      <td>Unknown</td>\n",
              "      <td>Unknown</td>\n",
              "      <td>Ikeja</td>\n",
              "    </tr>\n",
              "    <tr>\n",
              "      <th>7</th>\n",
              "      <td>Unknown</td>\n",
              "      <td>Male</td>\n",
              "      <td>Saloon</td>\n",
              "      <td>Unknown</td>\n",
              "      <td>TOYOTA</td>\n",
              "      <td>Unknown</td>\n",
              "    </tr>\n",
              "    <tr>\n",
              "      <th>8</th>\n",
              "      <td>Benue</td>\n",
              "      <td>Female</td>\n",
              "      <td>JEEP</td>\n",
              "      <td>Black</td>\n",
              "      <td>REXTON</td>\n",
              "      <td>Badagry</td>\n",
              "    </tr>\n",
              "    <tr>\n",
              "      <th>9</th>\n",
              "      <td>Eti-Osa</td>\n",
              "      <td>Female</td>\n",
              "      <td>Unknown</td>\n",
              "      <td>Unknown</td>\n",
              "      <td>Unknown</td>\n",
              "      <td>Eti-Osa</td>\n",
              "    </tr>\n",
              "  </tbody>\n",
              "</table>\n",
              "</div>"
            ],
            "text/plain": [
              "     State  Gender Car_Category Subject_Car_Colour Subject_Car_Make LGA_Name\n",
              "0  Unknown    Male       Saloon              Black           TOYOTA  Unknown\n",
              "1  Unknown  Female         JEEP               Grey           TOYOTA  Unknown\n",
              "2  Unknown    Male       Saloon                Red           TOYOTA  Unknown\n",
              "3  Unknown    Male      Unknown            Unknown          Unknown  Unknown\n",
              "4    Lagos  Entity      Unknown            Unknown          Unknown    Lagos\n",
              "5  Unknown    Male      Unknown            Unknown          Unknown  Unknown\n",
              "6    Lagos  Female      Unknown            Unknown          Unknown    Ikeja\n",
              "7  Unknown    Male       Saloon            Unknown           TOYOTA  Unknown\n",
              "8    Benue  Female         JEEP              Black           REXTON  Badagry\n",
              "9  Eti-Osa  Female      Unknown            Unknown          Unknown  Eti-Osa"
            ]
          },
          "metadata": {
            "tags": []
          },
          "execution_count": 16
        }
      ]
    },
    {
      "cell_type": "code",
      "metadata": {
        "id": "4WamA75rJJZN"
      },
      "source": [
        "#train.isnull().sum()"
      ],
      "execution_count": null,
      "outputs": []
    },
    {
      "cell_type": "markdown",
      "metadata": {
        "id": "3roC_og1Z10H"
      },
      "source": [
        "**Treat missing values for test set this time**\n",
        "\n",
        "[link text](https://github.com/GDhasade/Medium.com_Contents/blob/master/Handle_Categorical_Missing_Data.ipynb//)"
      ]
    },
    {
      "cell_type": "code",
      "metadata": {
        "id": "hznRRiCLZ8Mf"
      },
      "source": [
        "#test.isnull().sum()              same missing column as above"
      ],
      "execution_count": 17,
      "outputs": []
    },
    {
      "cell_type": "code",
      "metadata": {
        "colab": {
          "base_uri": "https://localhost:8080/",
          "height": 363
        },
        "id": "ubTVeawaaciY",
        "outputId": "c20d6f8d-0626-4be4-ab96-a348a754362f"
      },
      "source": [
        "#1. Function to impute null value with new category\n",
        "def impute_nan_create_category(test,ColName):\n",
        "     test[ColName] = np.where(test[ColName].isnull(),\"Unknown\",test[ColName])\n",
        "## Call function to create new category for variables\n",
        "for Columns in ['State','Gender','Car_Category', 'Subject_Car_Colour' ,'Subject_Car_Make','LGA_Name']:\n",
        "    impute_nan_create_category(test,Columns)\n",
        "#2. Display result\n",
        "test[['State','Gender','Car_Category', 'Subject_Car_Colour','Subject_Car_Make','LGA_Name']].head(10)"
      ],
      "execution_count": 18,
      "outputs": [
        {
          "output_type": "execute_result",
          "data": {
            "text/html": [
              "<div>\n",
              "<style scoped>\n",
              "    .dataframe tbody tr th:only-of-type {\n",
              "        vertical-align: middle;\n",
              "    }\n",
              "\n",
              "    .dataframe tbody tr th {\n",
              "        vertical-align: top;\n",
              "    }\n",
              "\n",
              "    .dataframe thead th {\n",
              "        text-align: right;\n",
              "    }\n",
              "</style>\n",
              "<table border=\"1\" class=\"dataframe\">\n",
              "  <thead>\n",
              "    <tr style=\"text-align: right;\">\n",
              "      <th></th>\n",
              "      <th>State</th>\n",
              "      <th>Gender</th>\n",
              "      <th>Car_Category</th>\n",
              "      <th>Subject_Car_Colour</th>\n",
              "      <th>Subject_Car_Make</th>\n",
              "      <th>LGA_Name</th>\n",
              "    </tr>\n",
              "  </thead>\n",
              "  <tbody>\n",
              "    <tr>\n",
              "      <th>0</th>\n",
              "      <td>Lagos</td>\n",
              "      <td>NO GENDER</td>\n",
              "      <td>Unknown</td>\n",
              "      <td>As Attached</td>\n",
              "      <td>Iveco</td>\n",
              "      <td>Victoria Island</td>\n",
              "    </tr>\n",
              "    <tr>\n",
              "      <th>1</th>\n",
              "      <td>Lagos</td>\n",
              "      <td>Unknown</td>\n",
              "      <td>Unknown</td>\n",
              "      <td>As Attached</td>\n",
              "      <td>TOYOTA</td>\n",
              "      <td>Victoria Island</td>\n",
              "    </tr>\n",
              "    <tr>\n",
              "      <th>2</th>\n",
              "      <td>Abuja-Municipal</td>\n",
              "      <td>Female</td>\n",
              "      <td>Unknown</td>\n",
              "      <td>Unknown</td>\n",
              "      <td>Ford</td>\n",
              "      <td>Abuja Municipal</td>\n",
              "    </tr>\n",
              "    <tr>\n",
              "      <th>3</th>\n",
              "      <td>Benue</td>\n",
              "      <td>Male</td>\n",
              "      <td>Unknown</td>\n",
              "      <td>Unknown</td>\n",
              "      <td>Unknown</td>\n",
              "      <td>Kosofe</td>\n",
              "    </tr>\n",
              "    <tr>\n",
              "      <th>4</th>\n",
              "      <td>Lagos</td>\n",
              "      <td>Unknown</td>\n",
              "      <td>Unknown</td>\n",
              "      <td>Unknown</td>\n",
              "      <td>TOYOTA</td>\n",
              "      <td>Victoria Island</td>\n",
              "    </tr>\n",
              "    <tr>\n",
              "      <th>5</th>\n",
              "      <td>Abuja</td>\n",
              "      <td>Female</td>\n",
              "      <td>Saloon</td>\n",
              "      <td>Black</td>\n",
              "      <td>Honda</td>\n",
              "      <td>Wuse 11</td>\n",
              "    </tr>\n",
              "    <tr>\n",
              "      <th>6</th>\n",
              "      <td>Unknown</td>\n",
              "      <td>Female</td>\n",
              "      <td>Saloon</td>\n",
              "      <td>Unknown</td>\n",
              "      <td>TOYOTA</td>\n",
              "      <td>Unknown</td>\n",
              "    </tr>\n",
              "    <tr>\n",
              "      <th>7</th>\n",
              "      <td>Lagos</td>\n",
              "      <td>Unknown</td>\n",
              "      <td>Saloon</td>\n",
              "      <td>Red</td>\n",
              "      <td>Hyundai</td>\n",
              "      <td>Victoria Island</td>\n",
              "    </tr>\n",
              "    <tr>\n",
              "      <th>8</th>\n",
              "      <td>Unknown</td>\n",
              "      <td>Female</td>\n",
              "      <td>JEEP</td>\n",
              "      <td>Unknown</td>\n",
              "      <td>TOYOTA</td>\n",
              "      <td>Unknown</td>\n",
              "    </tr>\n",
              "    <tr>\n",
              "      <th>9</th>\n",
              "      <td>Unknown</td>\n",
              "      <td>Male</td>\n",
              "      <td>JEEP</td>\n",
              "      <td>Unknown</td>\n",
              "      <td>ACURA</td>\n",
              "      <td>Unknown</td>\n",
              "    </tr>\n",
              "  </tbody>\n",
              "</table>\n",
              "</div>"
            ],
            "text/plain": [
              "             State     Gender  ... Subject_Car_Make         LGA_Name\n",
              "0            Lagos  NO GENDER  ...            Iveco  Victoria Island\n",
              "1            Lagos    Unknown  ...           TOYOTA  Victoria Island\n",
              "2  Abuja-Municipal     Female  ...             Ford  Abuja Municipal\n",
              "3            Benue       Male  ...          Unknown           Kosofe\n",
              "4            Lagos    Unknown  ...           TOYOTA  Victoria Island\n",
              "5            Abuja     Female  ...            Honda          Wuse 11\n",
              "6          Unknown     Female  ...           TOYOTA          Unknown\n",
              "7            Lagos    Unknown  ...          Hyundai  Victoria Island\n",
              "8          Unknown     Female  ...           TOYOTA          Unknown\n",
              "9          Unknown       Male  ...            ACURA          Unknown\n",
              "\n",
              "[10 rows x 6 columns]"
            ]
          },
          "metadata": {
            "tags": []
          },
          "execution_count": 18
        }
      ]
    },
    {
      "cell_type": "markdown",
      "metadata": {
        "id": "VnqqHCmyKta-"
      },
      "source": [
        "**Data Visualization**"
      ]
    },
    {
      "cell_type": "code",
      "metadata": {
        "colab": {
          "base_uri": "https://localhost:8080/",
          "height": 354
        },
        "id": "OMSGb3nocZJi",
        "outputId": "f2e1c05c-f4cf-4f4e-82c9-98b298afc5b7"
      },
      "source": [
        "# Distribution of targets and mean \n",
        "sns.distplot(train['target'])\n",
        "plt.axvline(train['target'].mean(), color=\"k\", linestyle=\"--\")"
      ],
      "execution_count": 19,
      "outputs": [
        {
          "output_type": "stream",
          "text": [
            "/usr/local/lib/python3.6/dist-packages/seaborn/distributions.py:2551: FutureWarning: `distplot` is a deprecated function and will be removed in a future version. Please adapt your code to use either `displot` (a figure-level function with similar flexibility) or `histplot` (an axes-level function for histograms).\n",
            "  warnings.warn(msg, FutureWarning)\n"
          ],
          "name": "stderr"
        },
        {
          "output_type": "execute_result",
          "data": {
            "text/plain": [
              "<matplotlib.lines.Line2D at 0x7fd680b54438>"
            ]
          },
          "metadata": {
            "tags": []
          },
          "execution_count": 19
        },
        {
          "output_type": "display_data",
          "data": {
            "image/png": "[encoded data removed]",
            "text/plain": [
              "<Figure size 432x288 with 1 Axes>"
            ]
          },
          "metadata": {
            "tags": [],
            "needs_background": "light"
          }
        }
      ]
    },
    {
      "cell_type": "code",
      "metadata": {
        "colab": {
          "base_uri": "https://localhost:8080/",
          "height": 354
        },
        "id": "JIOTnoaOTw4q",
        "outputId": "637a459d-e0c7-4de3-9241-d3e47760a651"
      },
      "source": [
        "sns.countplot(train.target)"
      ],
      "execution_count": 20,
      "outputs": [
        {
          "output_type": "stream",
          "text": [
            "/usr/local/lib/python3.6/dist-packages/seaborn/_decorators.py:43: FutureWarning: Pass the following variable as a keyword arg: x. From version 0.12, the only valid positional argument will be `data`, and passing other arguments without an explicit keyword will result in an error or misinterpretation.\n",
            "  FutureWarning\n"
          ],
          "name": "stderr"
        },
        {
          "output_type": "execute_result",
          "data": {
            "text/plain": [
              "<matplotlib.axes._subplots.AxesSubplot at 0x7fd67d0a3198>"
            ]
          },
          "metadata": {
            "tags": []
          },
          "execution_count": 20
        },
        {
          "output_type": "display_data",
          "data": {
            "image/png": "[encoded data removed]",
            "text/plain": [
              "<Figure size 432x288 with 1 Axes>"
            ]
          },
          "metadata": {
            "tags": [],
            "needs_background": "light"
          }
        }
      ]
    },
    {
      "cell_type": "code",
      "metadata": {
        "colab": {
          "base_uri": "https://localhost:8080/"
        },
        "id": "btTL2e3BWXfX",
        "outputId": "f42ed3bc-6ff0-441c-d8c0-faae652d177d"
      },
      "source": [
        "date_col = ['Policy Start Date','Policy End Date','First Transaction Date']\n",
        "num_col = ['Age', 'No_Pol']\n",
        "id_col = ['ID']\n",
        "cat_col = [col for col in train.columns if col not in date_col+num_col+id_col]\n",
        "cat_col"
      ],
      "execution_count": 21,
      "outputs": [
        {
          "output_type": "execute_result",
          "data": {
            "text/plain": [
              "['Gender',\n",
              " 'Car_Category',\n",
              " 'Subject_Car_Colour',\n",
              " 'Subject_Car_Make',\n",
              " 'LGA_Name',\n",
              " 'State',\n",
              " 'ProductName',\n",
              " 'target']"
            ]
          },
          "metadata": {
            "tags": []
          },
          "execution_count": 21
        }
      ]
    },
    {
      "cell_type": "code",
      "metadata": {
        "id": "a7_uq_57V2QE"
      },
      "source": [
        "def check_categorical_relationship(cat_col,y_col,df):\n",
        "    for feat in cat_col:\n",
        "        plt.figure(figsize=(20,5))\n",
        "        sns.barplot(df[feat],df[y_col])\n",
        "        plt.show()\n",
        "        print(\"\\n \\n \\n \")"
      ],
      "execution_count": null,
      "outputs": []
    },
    {
      "cell_type": "code",
      "metadata": {
        "colab": {
          "base_uri": "https://localhost:8080/",
          "height": 1000
        },
        "id": "AocPt7HaWDKO",
        "outputId": "880cc804-468d-403a-e41a-6e75d92fa676"
      },
      "source": [
        "check_categorical_relationship(cat_col,'Age',train)"
      ],
      "execution_count": null,
      "outputs": [
        {
          "output_type": "stream",
          "text": [
            "/usr/local/lib/python3.6/dist-packages/seaborn/_decorators.py:43: FutureWarning: Pass the following variables as keyword args: x, y. From version 0.12, the only valid positional argument will be `data`, and passing other arguments without an explicit keyword will result in an error or misinterpretation.\n",
            "  FutureWarning\n"
          ],
          "name": "stderr"
        },
        {
          "output_type": "display_data",
          "data": {
            "image/png": "[encoded data removed]",
            "text/plain": [
              "<Figure size 1440x360 with 1 Axes>"
            ]
          },
          "metadata": {
            "tags": []
          }
        },
        {
          "output_type": "stream",
          "text": [
            "\n",
            " \n",
            " \n",
            " \n"
          ],
          "name": "stdout"
        },
        {
          "output_type": "stream",
          "text": [
            "/usr/local/lib/python3.6/dist-packages/seaborn/_decorators.py:43: FutureWarning: Pass the following variables as keyword args: x, y. From version 0.12, the only valid positional argument will be `data`, and passing other arguments without an explicit keyword will result in an error or misinterpretation.\n",
            "  FutureWarning\n"
          ],
          "name": "stderr"
        },
        {
          "output_type": "display_data",
          "data": {
            "image/png": "[encoded data removed]",
            "text/plain": [
              "<Figure size 1440x360 with 1 Axes>"
            ]
          },
          "metadata": {
            "tags": []
          }
        },
        {
          "output_type": "stream",
          "text": [
            "\n",
            " \n",
            " \n",
            " \n"
          ],
          "name": "stdout"
        },
        {
          "output_type": "stream",
          "text": [
            "/usr/local/lib/python3.6/dist-packages/seaborn/_decorators.py:43: FutureWarning: Pass the following variables as keyword args: x, y. From version 0.12, the only valid positional argument will be `data`, and passing other arguments without an explicit keyword will result in an error or misinterpretation.\n",
            "  FutureWarning\n"
          ],
          "name": "stderr"
        },
        {
          "output_type": "display_data",
          "data": {
            "image/png": "[encoded data removed]",
            "text/plain": [
              "<Figure size 1440x360 with 1 Axes>"
            ]
          },
          "metadata": {
            "tags": []
          }
        },
        {
          "output_type": "stream",
          "text": [
            "\n",
            " \n",
            " \n",
            " \n"
          ],
          "name": "stdout"
        },
        {
          "output_type": "stream",
          "text": [
            "/usr/local/lib/python3.6/dist-packages/seaborn/_decorators.py:43: FutureWarning: Pass the following variables as keyword args: x, y. From version 0.12, the only valid positional argument will be `data`, and passing other arguments without an explicit keyword will result in an error or misinterpretation.\n",
            "  FutureWarning\n"
          ],
          "name": "stderr"
        },
        {
          "output_type": "display_data",
          "data": {
            "image/png": "[encoded data removed]",
            "text/plain": [
              "<Figure size 1440x360 with 1 Axes>"
            ]
          },
          "metadata": {
            "tags": []
          }
        },
        {
          "output_type": "stream",
          "text": [
            "\n",
            " \n",
            " \n",
            " \n"
          ],
          "name": "stdout"
        },
        {
          "output_type": "stream",
          "text": [
            "/usr/local/lib/python3.6/dist-packages/seaborn/_decorators.py:43: FutureWarning: Pass the following variables as keyword args: x, y. From version 0.12, the only valid positional argument will be `data`, and passing other arguments without an explicit keyword will result in an error or misinterpretation.\n",
            "  FutureWarning\n"
          ],
          "name": "stderr"
        },
        {
          "output_type": "display_data",
          "data": {
            "image/png": "[encoded data removed]",
            "text/plain": [
              "<Figure size 1440x360 with 1 Axes>"
            ]
          },
          "metadata": {
            "tags": []
          }
        },
        {
          "output_type": "stream",
          "text": [
            "\n",
            " \n",
            " \n",
            " \n"
          ],
          "name": "stdout"
        },
        {
          "output_type": "stream",
          "text": [
            "/usr/local/lib/python3.6/dist-packages/seaborn/_decorators.py:43: FutureWarning: Pass the following variables as keyword args: x, y. From version 0.12, the only valid positional argument will be `data`, and passing other arguments without an explicit keyword will result in an error or misinterpretation.\n",
            "  FutureWarning\n"
          ],
          "name": "stderr"
        },
        {
          "output_type": "display_data",
          "data": {
            "image/png": "[encoded data removed]",
            "text/plain": [
              "<Figure size 1440x360 with 1 Axes>"
            ]
          },
          "metadata": {
            "tags": []
          }
        },
        {
          "output_type": "stream",
          "text": [
            "\n",
            " \n",
            " \n",
            " \n"
          ],
          "name": "stdout"
        },
        {
          "output_type": "stream",
          "text": [
            "/usr/local/lib/python3.6/dist-packages/seaborn/_decorators.py:43: FutureWarning: Pass the following variables as keyword args: x, y. From version 0.12, the only valid positional argument will be `data`, and passing other arguments without an explicit keyword will result in an error or misinterpretation.\n",
            "  FutureWarning\n"
          ],
          "name": "stderr"
        },
        {
          "output_type": "display_data",
          "data": {
            "image/png": "[encoded data removed]",
            "text/plain": [
              "<Figure size 1440x360 with 1 Axes>"
            ]
          },
          "metadata": {
            "tags": []
          }
        },
        {
          "output_type": "stream",
          "text": [
            "\n",
            " \n",
            " \n",
            " \n"
          ],
          "name": "stdout"
        },
        {
          "output_type": "stream",
          "text": [
            "/usr/local/lib/python3.6/dist-packages/seaborn/_decorators.py:43: FutureWarning: Pass the following variables as keyword args: x, y. From version 0.12, the only valid positional argument will be `data`, and passing other arguments without an explicit keyword will result in an error or misinterpretation.\n",
            "  FutureWarning\n"
          ],
          "name": "stderr"
        },
        {
          "output_type": "display_data",
          "data": {
            "image/png": "[encoded data removed]",
            "text/plain": [
              "<Figure size 1440x360 with 1 Axes>"
            ]
          },
          "metadata": {
            "tags": []
          }
        },
        {
          "output_type": "stream",
          "text": [
            "\n",
            " \n",
            " \n",
            " \n"
          ],
          "name": "stdout"
        }
      ]
    },
    {
      "cell_type": "code",
      "metadata": {
        "colab": {
          "base_uri": "https://localhost:8080/",
          "height": 354
        },
        "id": "y7NfZ9J_WshG",
        "outputId": "dffc6f42-79d6-46e5-c587-e4ac93a63c07"
      },
      "source": [
        "# Gender distribution \n",
        "sns.countplot(train.Gender)"
      ],
      "execution_count": null,
      "outputs": [
        {
          "output_type": "stream",
          "text": [
            "/usr/local/lib/python3.6/dist-packages/seaborn/_decorators.py:43: FutureWarning: Pass the following variable as a keyword arg: x. From version 0.12, the only valid positional argument will be `data`, and passing other arguments without an explicit keyword will result in an error or misinterpretation.\n",
            "  FutureWarning\n"
          ],
          "name": "stderr"
        },
        {
          "output_type": "execute_result",
          "data": {
            "text/plain": [
              "<matplotlib.axes._subplots.AxesSubplot at 0x7f8ca0a3a780>"
            ]
          },
          "metadata": {
            "tags": []
          },
          "execution_count": 16
        },
        {
          "output_type": "display_data",
          "data": {
            "image/png": "[encoded data removed]",
            "text/plain": [
              "<Figure size 432x288 with 1 Axes>"
            ]
          },
          "metadata": {
            "tags": [],
            "needs_background": "light"
          }
        }
      ]
    },
    {
      "cell_type": "code",
      "metadata": {
        "colab": {
          "base_uri": "https://localhost:8080/",
          "height": 1000
        },
        "id": "pDbZKZHtY3Xr",
        "outputId": "5d882847-669f-416f-92e9-cf36d1bf58d9"
      },
      "source": [
        "#Categorical values visualization\n",
        "plt.figure(figsize=(13,24))\n",
        "for i, c in enumerate(cat_col):\n",
        "    ax = plt.subplot(6,3,i+1)\n",
        "    sns.countplot(train[c],palette='rainbow')"
      ],
      "execution_count": 22,
      "outputs": [
        {
          "output_type": "stream",
          "text": [
            "/usr/local/lib/python3.6/dist-packages/seaborn/_decorators.py:43: FutureWarning: Pass the following variable as a keyword arg: x. From version 0.12, the only valid positional argument will be `data`, and passing other arguments without an explicit keyword will result in an error or misinterpretation.\n",
            "  FutureWarning\n",
            "/usr/local/lib/python3.6/dist-packages/seaborn/_decorators.py:43: FutureWarning: Pass the following variable as a keyword arg: x. From version 0.12, the only valid positional argument will be `data`, and passing other arguments without an explicit keyword will result in an error or misinterpretation.\n",
            "  FutureWarning\n",
            "/usr/local/lib/python3.6/dist-packages/seaborn/_decorators.py:43: FutureWarning: Pass the following variable as a keyword arg: x. From version 0.12, the only valid positional argument will be `data`, and passing other arguments without an explicit keyword will result in an error or misinterpretation.\n",
            "  FutureWarning\n",
            "/usr/local/lib/python3.6/dist-packages/seaborn/_decorators.py:43: FutureWarning: Pass the following variable as a keyword arg: x. From version 0.12, the only valid positional argument will be `data`, and passing other arguments without an explicit keyword will result in an error or misinterpretation.\n",
            "  FutureWarning\n",
            "/usr/local/lib/python3.6/dist-packages/seaborn/_decorators.py:43: FutureWarning: Pass the following variable as a keyword arg: x. From version 0.12, the only valid positional argument will be `data`, and passing other arguments without an explicit keyword will result in an error or misinterpretation.\n",
            "  FutureWarning\n",
            "/usr/local/lib/python3.6/dist-packages/seaborn/_decorators.py:43: FutureWarning: Pass the following variable as a keyword arg: x. From version 0.12, the only valid positional argument will be `data`, and passing other arguments without an explicit keyword will result in an error or misinterpretation.\n",
            "  FutureWarning\n",
            "/usr/local/lib/python3.6/dist-packages/seaborn/_decorators.py:43: FutureWarning: Pass the following variable as a keyword arg: x. From version 0.12, the only valid positional argument will be `data`, and passing other arguments without an explicit keyword will result in an error or misinterpretation.\n",
            "  FutureWarning\n",
            "/usr/local/lib/python3.6/dist-packages/seaborn/_decorators.py:43: FutureWarning: Pass the following variable as a keyword arg: x. From version 0.12, the only valid positional argument will be `data`, and passing other arguments without an explicit keyword will result in an error or misinterpretation.\n",
            "  FutureWarning\n"
          ],
          "name": "stderr"
        },
        {
          "output_type": "display_data",
          "data": {
            "image/png": "[encoded data removed]",
            "text/plain": [
              "<Figure size 936x1728 with 8 Axes>"
            ]
          },
          "metadata": {
            "tags": [],
            "needs_background": "light"
          }
        }
      ]
    },
    {
      "cell_type": "code",
      "metadata": {
        "colab": {
          "base_uri": "https://localhost:8080/"
        },
        "id": "2svqhfhqYbV1",
        "outputId": "abbb1e4d-62a6-47f3-dc75-94366aeb0427"
      },
      "source": [
        "train.Gender.unique()"
      ],
      "execution_count": 24,
      "outputs": [
        {
          "output_type": "execute_result",
          "data": {
            "text/plain": [
              "array(['Male', 'Female', 'Entity', 'Joint Gender', 'Unknown', 'NO GENDER',\n",
              "       'NOT STATED', 'SEX'], dtype=object)"
            ]
          },
          "metadata": {
            "tags": []
          },
          "execution_count": 24
        }
      ]
    },
    {
      "cell_type": "code",
      "metadata": {
        "colab": {
          "base_uri": "https://localhost:8080/"
        },
        "id": "5atQbYREe-RO",
        "outputId": "ed3eab29-1993-45d4-89dd-566f2253b479"
      },
      "source": [
        "# we check for cardinality and look for outliers\n",
        "for col in train.columns:\n",
        "    if train[col].dtype == \"object\":\n",
        "        print(\"For column {} cardinality in Train minus cardinality in Test equals: {}\".format(col, train[col].nunique()-test[col].nunique()))\n",
        "# cardinality of train is always higher than that of test"
      ],
      "execution_count": 23,
      "outputs": [
        {
          "output_type": "stream",
          "text": [
            "For column ID cardinality in Train minus cardinality in Test equals: 6902\n",
            "For column Policy Start Date cardinality in Train minus cardinality in Test equals: 20\n",
            "For column Policy End Date cardinality in Train minus cardinality in Test equals: 9\n",
            "For column Gender cardinality in Train minus cardinality in Test equals: 0\n",
            "For column First Transaction Date cardinality in Train minus cardinality in Test equals: 20\n",
            "For column Car_Category cardinality in Train minus cardinality in Test equals: 2\n",
            "For column Subject_Car_Colour cardinality in Train minus cardinality in Test equals: 8\n",
            "For column Subject_Car_Make cardinality in Train minus cardinality in Test equals: 21\n",
            "For column LGA_Name cardinality in Train minus cardinality in Test equals: 65\n",
            "For column State cardinality in Train minus cardinality in Test equals: 30\n",
            "For column ProductName cardinality in Train minus cardinality in Test equals: 0\n"
          ],
          "name": "stdout"
        }
      ]
    },
    {
      "cell_type": "markdown",
      "metadata": {
        "id": "RfskYjzrYgw2"
      },
      "source": [
        "**Basic Data Pre-Processing**"
      ]
    },
    {
      "cell_type": "code",
      "metadata": {
        "id": "ODta8eGugUUr"
      },
      "source": [
        "# Gathering columns for which cardinality isn't the same into a list in order to make charts\n",
        "cols_list = []\n",
        "for col in train.columns:\n",
        "     if train[col].dtype == \"object\" and (train[col].nunique()-test[col].nunique()) != 0:\n",
        "        cols_list.append(col)"
      ],
      "execution_count": null,
      "outputs": []
    },
    {
      "cell_type": "code",
      "metadata": {
        "colab": {
          "background_save": true
        },
        "id": "3X3HgRAFgXyB",
        "outputId": "b4f6c09d-5e91-4285-b429-d5a8e087ee9c"
      },
      "source": [
        "# looking at values in these columns\n",
        "for l in cols_list:\n",
        "    sns.catplot(x=l, hue='Status', kind='count', data=combo)\n",
        "    plt.xticks(rotation=45)"
      ],
      "execution_count": null,
      "outputs": [
        {
          "output_type": "display_data",
          "data": {
            "image/png": "[encoded data removed]",
            "text/plain": [
              "<Figure size 439.375x360 with 1 Axes>"
            ]
          },
          "metadata": {
            "tags": []
          }
        },
        {
          "output_type": "display_data",
          "data": {
            "image/png": "[encoded data removed]",
            "text/plain": [
              "<Figure size 439.375x360 with 1 Axes>"
            ]
          },
          "metadata": {
            "tags": []
          }
        },
        {
          "output_type": "display_data",
          "data": {
            "image/png": "[encoded data removed]",
            "text/plain": [
              "<Figure size 439.375x360 with 1 Axes>"
            ]
          },
          "metadata": {
            "tags": []
          }
        },
        {
          "output_type": "display_data",
          "data": {
            "image/png": "[encoded data removed]",
            "text/plain": [
              "<Figure size 439.375x360 with 1 Axes>"
            ]
          },
          "metadata": {
            "tags": []
          }
        },
        {
          "output_type": "display_data",
          "data": {
            "image/png": "[encoded data removed]",
            "text/plain": [
              "<Figure size 439.375x360 with 1 Axes>"
            ]
          },
          "metadata": {
            "tags": []
          }
        },
        {
          "output_type": "display_data",
          "data": {
            "image/png": "[encoded data removed]",
            "text/plain": [
              "<Figure size 439.375x360 with 1 Axes>"
            ]
          },
          "metadata": {
            "tags": []
          }
        },
        {
          "output_type": "display_data",
          "data": {
            "image/png": "[encoded data removed]",
            "text/plain": [
              "<Figure size 439.375x360 with 1 Axes>"
            ]
          },
          "metadata": {
            "tags": []
          }
        },
        {
          "output_type": "display_data",
          "data": {
            "image/png": "[encoded data removed]",
            "text/plain": [
              "<Figure size 439.375x360 with 1 Axes>"
            ]
          },
          "metadata": {
            "tags": []
          }
        },
        {
          "output_type": "display_data",
          "data": {
            "image/png": "[encoded data removed]",
            "text/plain": [
              "<Figure size 439.375x360 with 1 Axes>"
            ]
          },
          "metadata": {
            "tags": []
          }
        }
      ]
    },
    {
      "cell_type": "code",
      "metadata": {
        "colab": {
          "base_uri": "https://localhost:8080/",
          "height": 804
        },
        "id": "_2ChzTcPnL1t",
        "outputId": "be6f10b1-a4a6-4932-cb2a-08f66a3fa48a"
      },
      "source": [
        "# Scatterplots: numeric columns vs. target in the train set \n",
        "# numeric columns\n",
        "digit_cols = train.select_dtypes(include=['float64','int64']).columns.to_list()\n",
        "# scatter plots: digit_cols vs. target\n",
        "\n",
        "for cols in digit_cols:\n",
        "    plt.figure()\n",
        "    sns.scatterplot(x = cols, y = 'No_Pol', data = train)"
      ],
      "execution_count": null,
      "outputs": [
        {
          "output_type": "display_data",
          "data": {
            "image/png": "[encoded data removed]",
            "text/plain": [
              "<Figure size 432x288 with 1 Axes>"
            ]
          },
          "metadata": {
            "tags": [],
            "needs_background": "light"
          }
        },
        {
          "output_type": "display_data",
          "data": {
            "image/png": "[encoded data removed]",
            "text/plain": [
              "<Figure size 432x288 with 1 Axes>"
            ]
          },
          "metadata": {
            "tags": [],
            "needs_background": "light"
          }
        },
        {
          "output_type": "display_data",
          "data": {
            "image/png": "[encoded data removed]",
            "text/plain": [
              "<Figure size 432x288 with 1 Axes>"
            ]
          },
          "metadata": {
            "tags": [],
            "needs_background": "light"
          }
        }
      ]
    },
    {
      "cell_type": "code",
      "metadata": {
        "id": "qGs0CGVWoW7E"
      },
      "source": [
        "# turning object columns into category columns\n",
        "for i in train.select_dtypes(include='object').columns.to_list():\n",
        "    train[i] = train[i].astype('category')"
      ],
      "execution_count": null,
      "outputs": []
    },
    {
      "cell_type": "code",
      "metadata": {
        "id": "_kCNYh2AoaLv"
      },
      "source": [
        "# list w/ categorical variables\n",
        "cater_cols = train.select_dtypes(include='category').columns.to_list()"
      ],
      "execution_count": null,
      "outputs": []
    },
    {
      "cell_type": "code",
      "metadata": {
        "colab": {
          "base_uri": "https://localhost:8080/",
          "height": 1000
        },
        "id": "XLdhOZNBoi3s",
        "outputId": "96387094-6656-4da8-b933-aa4898bece94"
      },
      "source": [
        "# categorical variables vs. target TAKES TIME\n",
        "for cols in cater_cols:\n",
        "    plt.figure()\n",
        "    sns.boxplot(x = cols, y = 'target', data = train)"
      ],
      "execution_count": null,
      "outputs": [
        {
          "output_type": "display_data",
          "data": {
            "image/png": "[encoded data removed]",
            "text/plain": [
              "<Figure size 432x288 with 1 Axes>"
            ]
          },
          "metadata": {
            "tags": [],
            "needs_background": "light"
          }
        },
        {
          "output_type": "display_data",
          "data": {
            "image/png": "[encoded data removed]",
            "text/plain": [
              "<Figure size 432x288 with 1 Axes>"
            ]
          },
          "metadata": {
            "tags": [],
            "needs_background": "light"
          }
        },
        {
          "output_type": "display_data",
          "data": {
            "image/png": "[encoded data removed]",
            "text/plain": [
              "<Figure size 432x288 with 1 Axes>"
            ]
          },
          "metadata": {
            "tags": [],
            "needs_background": "light"
          }
        },
        {
          "output_type": "display_data",
          "data": {
            "image/png": "[encoded data removed]",
            "text/plain": [
              "<Figure size 432x288 with 1 Axes>"
            ]
          },
          "metadata": {
            "tags": [],
            "needs_background": "light"
          }
        },
        {
          "output_type": "display_data",
          "data": {
            "image/png": "[encoded data removed]",
            "text/plain": [
              "<Figure size 432x288 with 1 Axes>"
            ]
          },
          "metadata": {
            "tags": [],
            "needs_background": "light"
          }
        },
        {
          "output_type": "display_data",
          "data": {
            "image/png": "[encoded data removed]",
            "text/plain": [
              "<Figure size 432x288 with 1 Axes>"
            ]
          },
          "metadata": {
            "tags": [],
            "needs_background": "light"
          }
        },
        {
          "output_type": "display_data",
          "data": {
            "image/png": "[encoded data removed]",
            "text/plain": [
              "<Figure size 432x288 with 1 Axes>"
            ]
          },
          "metadata": {
            "tags": [],
            "needs_background": "light"
          }
        },
        {
          "output_type": "display_data",
          "data": {
            "image/png": "[encoded data removed]",
            "text/plain": [
              "<Figure size 432x288 with 1 Axes>"
            ]
          },
          "metadata": {
            "tags": [],
            "needs_background": "light"
          }
        },
        {
          "output_type": "display_data",
          "data": {
            "image/png": "[encoded data removed]",
            "text/plain": [
              "<Figure size 432x288 with 1 Axes>"
            ]
          },
          "metadata": {
            "tags": [],
            "needs_background": "light"
          }
        },
        {
          "output_type": "display_data",
          "data": {
            "image/png": "[encoded data removed]",
            "text/plain": [
              "<Figure size 432x288 with 1 Axes>"
            ]
          },
          "metadata": {
            "tags": [],
            "needs_background": "light"
          }
        },
        {
          "output_type": "display_data",
          "data": {
            "image/png": "[encoded data removed]",
            "text/plain": [
              "<Figure size 432x288 with 1 Axes>"
            ]
          },
          "metadata": {
            "tags": [],
            "needs_background": "light"
          }
        }
      ]
    },
    {
      "cell_type": "code",
      "metadata": {
        "id": "n-Gmi_uqYbyZ"
      },
      "source": [
        "train_1 = train.copy()\n",
        "train_1.drop(labels = 'target', axis = 1, inplace = True)\n",
        "train_1['Status'] = 'Train Set' # adding a column Status to differentiate between Train and Test in the combined set\n",
        "test_1 = test.copy()\n",
        "test_1['Status'] = 'Test Set'"
      ],
      "execution_count": 27,
      "outputs": []
    },
    {
      "cell_type": "code",
      "metadata": {
        "colab": {
          "base_uri": "https://localhost:8080/"
        },
        "id": "DN5aI7IHeNVq",
        "outputId": "52d82141-3f21-46d6-cb03-c0768f44cfd3"
      },
      "source": [
        "date_col"
      ],
      "execution_count": 25,
      "outputs": [
        {
          "output_type": "execute_result",
          "data": {
            "text/plain": [
              "['Policy Start Date', 'Policy End Date', 'First Transaction Date']"
            ]
          },
          "metadata": {
            "tags": []
          },
          "execution_count": 25
        }
      ]
    },
    {
      "cell_type": "code",
      "metadata": {
        "id": "AEHJA67q41WI"
      },
      "source": [
        "for feat in date_col:\n",
        "    train_1[feat] = pd.to_datetime(train_1[feat])"
      ],
      "execution_count": 28,
      "outputs": []
    },
    {
      "cell_type": "code",
      "metadata": {
        "id": "z9ZmtWBKoGIu"
      },
      "source": [
        "for i in train_1.select_dtypes(include='category').columns.to_list():\n",
        "    train_1[i] = train_1[i].astype('object')"
      ],
      "execution_count": 29,
      "outputs": []
    },
    {
      "cell_type": "code",
      "metadata": {
        "id": "D2W9lYSfqxkg"
      },
      "source": [
        "#and for the train set\n",
        "train_1['Newtransact Y/N'] = np.where(train_1['Policy Start Date'] ==train_1['First Transaction Date'], 'No', 'Yes')\n",
        "# Now we subtract\n",
        "train_1['Age of policy'] = pd.to_datetime(train_1['Policy End Date']) - pd.to_datetime(train_1['Policy Start Date'])\n",
        "train_1['Age of policy'] = train_1['Age of policy'].dt.days.astype(float) + (train_1['Age of policy'].dt.seconds.astype(float) / 86400)\n",
        "train_1['Newtransact Y/N'] = train_1['Newtransact Y/N'].astype('category')"
      ],
      "execution_count": 30,
      "outputs": []
    },
    {
      "cell_type": "code",
      "metadata": {
        "id": "B46cx_v3u3SV"
      },
      "source": [
        "# Remove variables that were used to create new features\n",
        "cols_2_remove = ['Policy Start Date','Policy End Date', 'First Transaction Date']\n",
        "train_rem = train.copy()\n",
        "train_rem.drop(cols_2_remove, axis = 1, inplace = True)\n",
        "train_1.drop(cols_2_remove, axis=1, inplace=True)"
      ],
      "execution_count": 31,
      "outputs": []
    },
    {
      "cell_type": "markdown",
      "metadata": {
        "id": "TKRF8BSLva9B"
      },
      "source": [
        "**Correlation**"
      ]
    },
    {
      "cell_type": "code",
      "metadata": {
        "colab": {
          "base_uri": "https://localhost:8080/",
          "height": 495
        },
        "id": "HBXLKtvhvfjc",
        "outputId": "91a1b7e3-ecef-4ffe-f87c-643e9cf7cfdc"
      },
      "source": [
        "# rebuilding the correlation map for the new dataset\n",
        "f,ax=plt.subplots(figsize=(8,8))\n",
        "sns.heatmap(train_rem.corr(),annot=True,linewidth=.5,fmt='.1f',ax=ax)\n",
        "plt.show()"
      ],
      "execution_count": null,
      "outputs": [
        {
          "output_type": "display_data",
          "data": {
            "image/png": "[encoded data removed]",
            "text/plain": [
              "<Figure size 576x576 with 2 Axes>"
            ]
          },
          "metadata": {
            "tags": []
          }
        }
      ]
    },
    {
      "cell_type": "code",
      "metadata": {
        "colab": {
          "base_uri": "https://localhost:8080/",
          "height": 394
        },
        "id": "7GbyBBAUyysz",
        "outputId": "054b92a8-d61e-41de-abec-0c16e012788c"
      },
      "source": [
        "train_rem.apply(lambda x : pd.factorize(x)[0]).corr(method='pearson', min_periods=1)"
      ],
      "execution_count": null,
      "outputs": [
        {
          "output_type": "execute_result",
          "data": {
            "text/html": [
              "<div>\n",
              "<style scoped>\n",
              "    .dataframe tbody tr th:only-of-type {\n",
              "        vertical-align: middle;\n",
              "    }\n",
              "\n",
              "    .dataframe tbody tr th {\n",
              "        vertical-align: top;\n",
              "    }\n",
              "\n",
              "    .dataframe thead th {\n",
              "        text-align: right;\n",
              "    }\n",
              "</style>\n",
              "<table border=\"1\" class=\"dataframe\">\n",
              "  <thead>\n",
              "    <tr style=\"text-align: right;\">\n",
              "      <th></th>\n",
              "      <th>ID</th>\n",
              "      <th>Gender</th>\n",
              "      <th>Age</th>\n",
              "      <th>No_Pol</th>\n",
              "      <th>Car_Category</th>\n",
              "      <th>Subject_Car_Colour</th>\n",
              "      <th>Subject_Car_Make</th>\n",
              "      <th>LGA_Name</th>\n",
              "      <th>State</th>\n",
              "      <th>ProductName</th>\n",
              "      <th>target</th>\n",
              "    </tr>\n",
              "  </thead>\n",
              "  <tbody>\n",
              "    <tr>\n",
              "      <th>ID</th>\n",
              "      <td>1.000000</td>\n",
              "      <td>-0.001702</td>\n",
              "      <td>-0.004126</td>\n",
              "      <td>-0.005017</td>\n",
              "      <td>-0.004442</td>\n",
              "      <td>0.007099</td>\n",
              "      <td>0.010668</td>\n",
              "      <td>0.028169</td>\n",
              "      <td>0.008536</td>\n",
              "      <td>0.002588</td>\n",
              "      <td>0.003178</td>\n",
              "    </tr>\n",
              "    <tr>\n",
              "      <th>Gender</th>\n",
              "      <td>-0.001702</td>\n",
              "      <td>1.000000</td>\n",
              "      <td>-0.012410</td>\n",
              "      <td>0.042152</td>\n",
              "      <td>0.089265</td>\n",
              "      <td>0.013565</td>\n",
              "      <td>0.025224</td>\n",
              "      <td>-0.025690</td>\n",
              "      <td>-0.015956</td>\n",
              "      <td>0.106732</td>\n",
              "      <td>0.007749</td>\n",
              "    </tr>\n",
              "    <tr>\n",
              "      <th>Age</th>\n",
              "      <td>-0.004126</td>\n",
              "      <td>-0.012410</td>\n",
              "      <td>1.000000</td>\n",
              "      <td>0.015527</td>\n",
              "      <td>0.015290</td>\n",
              "      <td>-0.002621</td>\n",
              "      <td>0.031482</td>\n",
              "      <td>0.033066</td>\n",
              "      <td>0.020363</td>\n",
              "      <td>-0.020460</td>\n",
              "      <td>-0.014391</td>\n",
              "    </tr>\n",
              "    <tr>\n",
              "      <th>No_Pol</th>\n",
              "      <td>-0.005017</td>\n",
              "      <td>0.042152</td>\n",
              "      <td>0.015527</td>\n",
              "      <td>1.000000</td>\n",
              "      <td>0.084599</td>\n",
              "      <td>-0.032014</td>\n",
              "      <td>0.078080</td>\n",
              "      <td>0.124409</td>\n",
              "      <td>0.102474</td>\n",
              "      <td>0.136401</td>\n",
              "      <td>0.060318</td>\n",
              "    </tr>\n",
              "    <tr>\n",
              "      <th>Car_Category</th>\n",
              "      <td>-0.004442</td>\n",
              "      <td>0.089265</td>\n",
              "      <td>0.015290</td>\n",
              "      <td>0.084599</td>\n",
              "      <td>1.000000</td>\n",
              "      <td>0.062810</td>\n",
              "      <td>-0.025899</td>\n",
              "      <td>-0.023540</td>\n",
              "      <td>-0.011359</td>\n",
              "      <td>0.092594</td>\n",
              "      <td>-0.010735</td>\n",
              "    </tr>\n",
              "    <tr>\n",
              "      <th>Subject_Car_Colour</th>\n",
              "      <td>0.007099</td>\n",
              "      <td>0.013565</td>\n",
              "      <td>-0.002621</td>\n",
              "      <td>-0.032014</td>\n",
              "      <td>0.062810</td>\n",
              "      <td>1.000000</td>\n",
              "      <td>-0.007780</td>\n",
              "      <td>-0.009802</td>\n",
              "      <td>-0.028767</td>\n",
              "      <td>0.007126</td>\n",
              "      <td>0.051026</td>\n",
              "    </tr>\n",
              "    <tr>\n",
              "      <th>Subject_Car_Make</th>\n",
              "      <td>0.010668</td>\n",
              "      <td>0.025224</td>\n",
              "      <td>0.031482</td>\n",
              "      <td>0.078080</td>\n",
              "      <td>-0.025899</td>\n",
              "      <td>-0.007780</td>\n",
              "      <td>1.000000</td>\n",
              "      <td>0.011878</td>\n",
              "      <td>0.000052</td>\n",
              "      <td>0.114834</td>\n",
              "      <td>-0.032258</td>\n",
              "    </tr>\n",
              "    <tr>\n",
              "      <th>LGA_Name</th>\n",
              "      <td>0.028169</td>\n",
              "      <td>-0.025690</td>\n",
              "      <td>0.033066</td>\n",
              "      <td>0.124409</td>\n",
              "      <td>-0.023540</td>\n",
              "      <td>-0.009802</td>\n",
              "      <td>0.011878</td>\n",
              "      <td>1.000000</td>\n",
              "      <td>0.654597</td>\n",
              "      <td>-0.054102</td>\n",
              "      <td>0.036510</td>\n",
              "    </tr>\n",
              "    <tr>\n",
              "      <th>State</th>\n",
              "      <td>0.008536</td>\n",
              "      <td>-0.015956</td>\n",
              "      <td>0.020363</td>\n",
              "      <td>0.102474</td>\n",
              "      <td>-0.011359</td>\n",
              "      <td>-0.028767</td>\n",
              "      <td>0.000052</td>\n",
              "      <td>0.654597</td>\n",
              "      <td>1.000000</td>\n",
              "      <td>-0.027668</td>\n",
              "      <td>0.004196</td>\n",
              "    </tr>\n",
              "    <tr>\n",
              "      <th>ProductName</th>\n",
              "      <td>0.002588</td>\n",
              "      <td>0.106732</td>\n",
              "      <td>-0.020460</td>\n",
              "      <td>0.136401</td>\n",
              "      <td>0.092594</td>\n",
              "      <td>0.007126</td>\n",
              "      <td>0.114834</td>\n",
              "      <td>-0.054102</td>\n",
              "      <td>-0.027668</td>\n",
              "      <td>1.000000</td>\n",
              "      <td>-0.006766</td>\n",
              "    </tr>\n",
              "    <tr>\n",
              "      <th>target</th>\n",
              "      <td>0.003178</td>\n",
              "      <td>0.007749</td>\n",
              "      <td>-0.014391</td>\n",
              "      <td>0.060318</td>\n",
              "      <td>-0.010735</td>\n",
              "      <td>0.051026</td>\n",
              "      <td>-0.032258</td>\n",
              "      <td>0.036510</td>\n",
              "      <td>0.004196</td>\n",
              "      <td>-0.006766</td>\n",
              "      <td>1.000000</td>\n",
              "    </tr>\n",
              "  </tbody>\n",
              "</table>\n",
              "</div>"
            ],
            "text/plain": [
              "                          ID    Gender  ...  ProductName    target\n",
              "ID                  1.000000 -0.001702  ...     0.002588  0.003178\n",
              "Gender             -0.001702  1.000000  ...     0.106732  0.007749\n",
              "Age                -0.004126 -0.012410  ...    -0.020460 -0.014391\n",
              "No_Pol             -0.005017  0.042152  ...     0.136401  0.060318\n",
              "Car_Category       -0.004442  0.089265  ...     0.092594 -0.010735\n",
              "Subject_Car_Colour  0.007099  0.013565  ...     0.007126  0.051026\n",
              "Subject_Car_Make    0.010668  0.025224  ...     0.114834 -0.032258\n",
              "LGA_Name            0.028169 -0.025690  ...    -0.054102  0.036510\n",
              "State               0.008536 -0.015956  ...    -0.027668  0.004196\n",
              "ProductName         0.002588  0.106732  ...     1.000000 -0.006766\n",
              "target              0.003178  0.007749  ...    -0.006766  1.000000\n",
              "\n",
              "[11 rows x 11 columns]"
            ]
          },
          "metadata": {
            "tags": []
          },
          "execution_count": 29
        }
      ]
    },
    {
      "cell_type": "markdown",
      "metadata": {
        "id": "0Ig6b3DJvzEB"
      },
      "source": [
        "**Back to analysis**"
      ]
    },
    {
      "cell_type": "code",
      "metadata": {
        "id": "bGL-fKqR1CKT",
        "colab": {
          "base_uri": "https://localhost:8080/"
        },
        "outputId": "ee21db3c-59fd-48db-979d-1a183239c7e4"
      },
      "source": [
        "# Building normality plots\n",
        "from statsmodels.graphics.gofplots import qqplot\n",
        "from matplotlib import pyplot"
      ],
      "execution_count": 32,
      "outputs": [
        {
          "output_type": "stream",
          "text": [
            "/usr/local/lib/python3.6/dist-packages/statsmodels/tools/_testing.py:19: FutureWarning: pandas.util.testing is deprecated. Use the functions in the public API at pandas.testing instead.\n",
            "  import pandas.util.testing as tm\n"
          ],
          "name": "stderr"
        }
      ]
    },
    {
      "cell_type": "code",
      "metadata": {
        "colab": {
          "base_uri": "https://localhost:8080/",
          "height": 279
        },
        "id": "pMCUAVa_1yvr",
        "outputId": "0db3fca3-257a-4626-f8a5-f0a93207cb21"
      },
      "source": [
        "qqplot(train_rem['No_Pol'], line='s')\n",
        "pyplot.show()"
      ],
      "execution_count": 33,
      "outputs": [
        {
          "output_type": "display_data",
          "data": {
            "image/png": "[encoded data removed]",
            "text/plain": [
              "<Figure size 432x288 with 1 Axes>"
            ]
          },
          "metadata": {
            "tags": [],
            "needs_background": "light"
          }
        }
      ]
    },
    {
      "cell_type": "markdown",
      "metadata": {
        "id": "5pt9CD4d2h1x"
      },
      "source": [
        "**Feature Extraction from the test set**"
      ]
    },
    {
      "cell_type": "code",
      "metadata": {
        "id": "Q2LzQxF7ePi1",
        "colab": {
          "base_uri": "https://localhost:8080/"
        },
        "outputId": "e4ddfff5-fa3e-44cc-d632-3cfeeadfa3f5"
      },
      "source": [
        "test_1.dtypes"
      ],
      "execution_count": 34,
      "outputs": [
        {
          "output_type": "execute_result",
          "data": {
            "text/plain": [
              "ID                        object\n",
              "Policy Start Date         object\n",
              "Policy End Date           object\n",
              "Gender                    object\n",
              "Age                        int64\n",
              "First Transaction Date    object\n",
              "No_Pol                     int64\n",
              "Car_Category              object\n",
              "Subject_Car_Colour        object\n",
              "Subject_Car_Make          object\n",
              "LGA_Name                  object\n",
              "State                     object\n",
              "ProductName               object\n",
              "Status                    object\n",
              "dtype: object"
            ]
          },
          "metadata": {
            "tags": []
          },
          "execution_count": 34
        }
      ]
    },
    {
      "cell_type": "code",
      "metadata": {
        "id": "NLD-02pP2n-h"
      },
      "source": [
        "#and for the train set\n",
        "test_1['Newtransact Y/N'] = np.where(test['Policy Start Date'] ==test_1['First Transaction Date'], 'No', 'Yes')\n",
        "# Now we subtract\n",
        "test_1['Age of policy'] = pd.to_datetime(test_1['Policy End Date']) - pd.to_datetime(test_1['Policy Start Date'])\n",
        "test_1['Age of policy'] = test_1['Age of policy'].dt.days.astype(float) + (test_1['Age of policy'].dt.seconds.astype(float) / 86400)\n",
        "test_1['Newtransact Y/N'] = test_1['Newtransact Y/N'].astype('category')"
      ],
      "execution_count": 35,
      "outputs": []
    },
    {
      "cell_type": "code",
      "metadata": {
        "id": "INyBTpnJ5MH3",
        "colab": {
          "base_uri": "https://localhost:8080/",
          "height": 635
        },
        "outputId": "3ff2fd43-ac6a-42a8-9f6a-6b91845ebca7"
      },
      "source": [
        "# Remove variables that were used to create new features\n",
        "cols_2_remove = ['Policy Start Date','Policy End Date', 'First Transaction Date']\n",
        "test_rem = train.copy()\n",
        "test_rem.drop(cols_2_remove, axis = 1, inplace = True)\n",
        "test_1.drop(cols_2_remove, axis=1, inplace=True)\n",
        "test_1.drop('ID', axis=1)"
      ],
      "execution_count": 40,
      "outputs": [
        {
          "output_type": "execute_result",
          "data": {
            "text/html": [
              "<div>\n",
              "<style scoped>\n",
              "    .dataframe tbody tr th:only-of-type {\n",
              "        vertical-align: middle;\n",
              "    }\n",
              "\n",
              "    .dataframe tbody tr th {\n",
              "        vertical-align: top;\n",
              "    }\n",
              "\n",
              "    .dataframe thead th {\n",
              "        text-align: right;\n",
              "    }\n",
              "</style>\n",
              "<table border=\"1\" class=\"dataframe\">\n",
              "  <thead>\n",
              "    <tr style=\"text-align: right;\">\n",
              "      <th></th>\n",
              "      <th>Gender</th>\n",
              "      <th>Age</th>\n",
              "      <th>No_Pol</th>\n",
              "      <th>Car_Category</th>\n",
              "      <th>Subject_Car_Colour</th>\n",
              "      <th>Subject_Car_Make</th>\n",
              "      <th>LGA_Name</th>\n",
              "      <th>State</th>\n",
              "      <th>ProductName</th>\n",
              "      <th>Status</th>\n",
              "      <th>Newtransact Y/N</th>\n",
              "      <th>Age of policy</th>\n",
              "    </tr>\n",
              "  </thead>\n",
              "  <tbody>\n",
              "    <tr>\n",
              "      <th>0</th>\n",
              "      <td>NO GENDER</td>\n",
              "      <td>25</td>\n",
              "      <td>1</td>\n",
              "      <td>Unknown</td>\n",
              "      <td>As Attached</td>\n",
              "      <td>Iveco</td>\n",
              "      <td>Victoria Island</td>\n",
              "      <td>Lagos</td>\n",
              "      <td>CVTP</td>\n",
              "      <td>Test Set</td>\n",
              "      <td>No</td>\n",
              "      <td>337.0</td>\n",
              "    </tr>\n",
              "    <tr>\n",
              "      <th>1</th>\n",
              "      <td>Unknown</td>\n",
              "      <td>120</td>\n",
              "      <td>4</td>\n",
              "      <td>Unknown</td>\n",
              "      <td>As Attached</td>\n",
              "      <td>TOYOTA</td>\n",
              "      <td>Victoria Island</td>\n",
              "      <td>Lagos</td>\n",
              "      <td>Muuve</td>\n",
              "      <td>Test Set</td>\n",
              "      <td>No</td>\n",
              "      <td>364.0</td>\n",
              "    </tr>\n",
              "    <tr>\n",
              "      <th>2</th>\n",
              "      <td>Female</td>\n",
              "      <td>46</td>\n",
              "      <td>1</td>\n",
              "      <td>Unknown</td>\n",
              "      <td>Unknown</td>\n",
              "      <td>Ford</td>\n",
              "      <td>Abuja Municipal</td>\n",
              "      <td>Abuja-Municipal</td>\n",
              "      <td>Car Classic</td>\n",
              "      <td>Test Set</td>\n",
              "      <td>No</td>\n",
              "      <td>364.0</td>\n",
              "    </tr>\n",
              "    <tr>\n",
              "      <th>3</th>\n",
              "      <td>Male</td>\n",
              "      <td>32</td>\n",
              "      <td>1</td>\n",
              "      <td>Unknown</td>\n",
              "      <td>Unknown</td>\n",
              "      <td>Unknown</td>\n",
              "      <td>Kosofe</td>\n",
              "      <td>Benue</td>\n",
              "      <td>Car Classic</td>\n",
              "      <td>Test Set</td>\n",
              "      <td>No</td>\n",
              "      <td>364.0</td>\n",
              "    </tr>\n",
              "    <tr>\n",
              "      <th>4</th>\n",
              "      <td>Unknown</td>\n",
              "      <td>120</td>\n",
              "      <td>4</td>\n",
              "      <td>Unknown</td>\n",
              "      <td>Unknown</td>\n",
              "      <td>TOYOTA</td>\n",
              "      <td>Victoria Island</td>\n",
              "      <td>Lagos</td>\n",
              "      <td>Muuve</td>\n",
              "      <td>Test Set</td>\n",
              "      <td>No</td>\n",
              "      <td>106.0</td>\n",
              "    </tr>\n",
              "    <tr>\n",
              "      <th>...</th>\n",
              "      <td>...</td>\n",
              "      <td>...</td>\n",
              "      <td>...</td>\n",
              "      <td>...</td>\n",
              "      <td>...</td>\n",
              "      <td>...</td>\n",
              "      <td>...</td>\n",
              "      <td>...</td>\n",
              "      <td>...</td>\n",
              "      <td>...</td>\n",
              "      <td>...</td>\n",
              "      <td>...</td>\n",
              "    </tr>\n",
              "    <tr>\n",
              "      <th>5172</th>\n",
              "      <td>Male</td>\n",
              "      <td>48</td>\n",
              "      <td>1</td>\n",
              "      <td>Saloon</td>\n",
              "      <td>Unknown</td>\n",
              "      <td>Honda</td>\n",
              "      <td>Unknown</td>\n",
              "      <td>Unknown</td>\n",
              "      <td>CarSafe</td>\n",
              "      <td>Test Set</td>\n",
              "      <td>No</td>\n",
              "      <td>364.0</td>\n",
              "    </tr>\n",
              "    <tr>\n",
              "      <th>5173</th>\n",
              "      <td>Unknown</td>\n",
              "      <td>50</td>\n",
              "      <td>1</td>\n",
              "      <td>Unknown</td>\n",
              "      <td>Unknown</td>\n",
              "      <td>Unknown</td>\n",
              "      <td>Victoria Island</td>\n",
              "      <td>Lagos</td>\n",
              "      <td>Car Classic</td>\n",
              "      <td>Test Set</td>\n",
              "      <td>No</td>\n",
              "      <td>364.0</td>\n",
              "    </tr>\n",
              "    <tr>\n",
              "      <th>5174</th>\n",
              "      <td>Male</td>\n",
              "      <td>1</td>\n",
              "      <td>1</td>\n",
              "      <td>Unknown</td>\n",
              "      <td>Unknown</td>\n",
              "      <td>Unknown</td>\n",
              "      <td>Unknown</td>\n",
              "      <td>Unknown</td>\n",
              "      <td>CarSafe</td>\n",
              "      <td>Test Set</td>\n",
              "      <td>No</td>\n",
              "      <td>364.0</td>\n",
              "    </tr>\n",
              "    <tr>\n",
              "      <th>5175</th>\n",
              "      <td>Female</td>\n",
              "      <td>52</td>\n",
              "      <td>1</td>\n",
              "      <td>Saloon</td>\n",
              "      <td>Grey</td>\n",
              "      <td>TOYOTA</td>\n",
              "      <td>Unknown</td>\n",
              "      <td>Unknown</td>\n",
              "      <td>Car Classic</td>\n",
              "      <td>Test Set</td>\n",
              "      <td>No</td>\n",
              "      <td>364.0</td>\n",
              "    </tr>\n",
              "    <tr>\n",
              "      <th>5176</th>\n",
              "      <td>Male</td>\n",
              "      <td>68</td>\n",
              "      <td>1</td>\n",
              "      <td>Saloon</td>\n",
              "      <td>Unknown</td>\n",
              "      <td>Peugeot</td>\n",
              "      <td>Unknown</td>\n",
              "      <td>Unknown</td>\n",
              "      <td>CarSafe</td>\n",
              "      <td>Test Set</td>\n",
              "      <td>No</td>\n",
              "      <td>364.0</td>\n",
              "    </tr>\n",
              "  </tbody>\n",
              "</table>\n",
              "<p>5177 rows × 12 columns</p>\n",
              "</div>"
            ],
            "text/plain": [
              "         Gender  Age  No_Pol  ...    Status Newtransact Y/N Age of policy\n",
              "0     NO GENDER   25       1  ...  Test Set              No         337.0\n",
              "1       Unknown  120       4  ...  Test Set              No         364.0\n",
              "2        Female   46       1  ...  Test Set              No         364.0\n",
              "3          Male   32       1  ...  Test Set              No         364.0\n",
              "4       Unknown  120       4  ...  Test Set              No         106.0\n",
              "...         ...  ...     ...  ...       ...             ...           ...\n",
              "5172       Male   48       1  ...  Test Set              No         364.0\n",
              "5173    Unknown   50       1  ...  Test Set              No         364.0\n",
              "5174       Male    1       1  ...  Test Set              No         364.0\n",
              "5175     Female   52       1  ...  Test Set              No         364.0\n",
              "5176       Male   68       1  ...  Test Set              No         364.0\n",
              "\n",
              "[5177 rows x 12 columns]"
            ]
          },
          "metadata": {
            "tags": []
          },
          "execution_count": 40
        }
      ]
    },
    {
      "cell_type": "code",
      "metadata": {
        "id": "9PQhVHMWtmFc"
      },
      "source": [
        "train_1 = train_1.drop('ID', axis=1)"
      ],
      "execution_count": 45,
      "outputs": []
    },
    {
      "cell_type": "code",
      "metadata": {
        "id": "NjnjfhMAgDvk"
      },
      "source": [
        "# combining into one dataset in order to more conveniently compare unique values in these columns:\n",
        "combo = train_1.copy()\n",
        "combo = combo.append(test_1)"
      ],
      "execution_count": 46,
      "outputs": []
    },
    {
      "cell_type": "markdown",
      "metadata": {
        "id": "WdlpGkWYe6W1"
      },
      "source": [
        "**Pre-processing Gender**"
      ]
    },
    {
      "cell_type": "code",
      "metadata": {
        "colab": {
          "base_uri": "https://localhost:8080/"
        },
        "id": "f84l4G8CfNuU",
        "outputId": "d795a095-b607-485f-bb5f-3da265ebee35"
      },
      "source": [
        "train.Gender.unique()"
      ],
      "execution_count": 47,
      "outputs": [
        {
          "output_type": "execute_result",
          "data": {
            "text/plain": [
              "array(['M', 'F', 'O'], dtype=object)"
            ]
          },
          "metadata": {
            "tags": []
          },
          "execution_count": 47
        }
      ]
    },
    {
      "cell_type": "code",
      "metadata": {
        "id": "QHnhdydofAYo"
      },
      "source": [
        "mapper = {\"Male\":\"M\",\"Female\":'F','Entity':'O','Joint Gender':'O','Unknown':'O','NO GENDER':'O','NOT STATED':'O','SEX':'O'}\n",
        "# M for Male, F for Female and O for Others"
      ],
      "execution_count": 48,
      "outputs": []
    },
    {
      "cell_type": "code",
      "metadata": {
        "id": "Cg0zaUxqfqxo"
      },
      "source": [
        "train.Gender = train.Gender.map(mapper)\n",
        "test.Gender = test.Gender.map(mapper)"
      ],
      "execution_count": 49,
      "outputs": []
    },
    {
      "cell_type": "code",
      "metadata": {
        "id": "KqRgojCDf8Ae"
      },
      "source": [
        "# pd.get_dummies(all_data)"
      ],
      "execution_count": null,
      "outputs": []
    },
    {
      "cell_type": "markdown",
      "metadata": {
        "id": "gDms343ZiNd5"
      },
      "source": [
        "**Creat Base model**"
      ]
    },
    {
      "cell_type": "code",
      "metadata": {
        "colab": {
          "base_uri": "https://localhost:8080/"
        },
        "id": "MNf5Igv9I6GQ",
        "outputId": "71e47a7a-c327-4934-8600-cc14d002b88a"
      },
      "source": [
        "train_1.shape\n",
        "test_1.shape\n",
        "combo.shape"
      ],
      "execution_count": 50,
      "outputs": [
        {
          "output_type": "execute_result",
          "data": {
            "text/plain": [
              "(17256, 13)"
            ]
          },
          "metadata": {
            "tags": []
          },
          "execution_count": 50
        }
      ]
    },
    {
      "cell_type": "code",
      "metadata": {
        "colab": {
          "base_uri": "https://localhost:8080/"
        },
        "id": "UVbK9Kl8JLVC",
        "outputId": "e35f113b-304b-4f8b-e202-a124ee779549"
      },
      "source": [
        "# extra checks\n",
        "list(set(combo.columns.to_list()) ^ set(train_rem.columns.to_list()))"
      ],
      "execution_count": 51,
      "outputs": [
        {
          "output_type": "execute_result",
          "data": {
            "text/plain": [
              "['Status', 'target', 'Newtransact Y/N', 'Age of policy']"
            ]
          },
          "metadata": {
            "tags": []
          },
          "execution_count": 51
        }
      ]
    },
    {
      "cell_type": "code",
      "metadata": {
        "id": "vtDm7xv_JZIJ"
      },
      "source": [
        "X = combo.copy()\n",
        "St = X['Status']\n",
        "X.drop('Status', axis = 1, inplace = True)"
      ],
      "execution_count": 52,
      "outputs": []
    },
    {
      "cell_type": "code",
      "metadata": {
        "colab": {
          "base_uri": "https://localhost:8080/"
        },
        "id": "F66NuUuZJipd",
        "outputId": "ddcd17af-5fa3-4ad8-9100-c19b13dd90e2"
      },
      "source": [
        "combo['Status'].value_counts()\n",
        "#St.value_counts()"
      ],
      "execution_count": 53,
      "outputs": [
        {
          "output_type": "execute_result",
          "data": {
            "text/plain": [
              "Train Set    12079\n",
              "Test Set      5177\n",
              "Name: Status, dtype: int64"
            ]
          },
          "metadata": {
            "tags": []
          },
          "execution_count": 53
        }
      ]
    },
    {
      "cell_type": "code",
      "metadata": {
        "id": "--rHSGIIh8Ot"
      },
      "source": [
        "#Check the distribution of variables\n",
        "train.target = train.target.astype(int)"
      ],
      "execution_count": 54,
      "outputs": []
    },
    {
      "cell_type": "code",
      "metadata": {
        "id": "bfN3EhqnJ6RE"
      },
      "source": [
        "sp = train_rem['target']"
      ],
      "execution_count": 55,
      "outputs": []
    },
    {
      "cell_type": "markdown",
      "metadata": {
        "id": "u-4DEdrBK5ad"
      },
      "source": [
        "**Frequency encoding**"
      ]
    },
    {
      "cell_type": "code",
      "metadata": {
        "id": "eJTQI0PILI2N"
      },
      "source": [
        "X_cat = X.select_dtypes(include=['object'])\n",
        "X_num = X.select_dtypes(exclude=['object'])"
      ],
      "execution_count": 56,
      "outputs": []
    },
    {
      "cell_type": "code",
      "metadata": {
        "id": "YIGzeJ1jLP6d"
      },
      "source": [
        "#X[['Car_Category', 'Subject_Car_Colour', 'Subject_Car_Make', 'LGA_Name', 'State', 'ProductName']] = X[['Car_Category', 'Subject_Car_Colour', 'Subject_Car_Make', 'LGA_Name', 'State', 'ProductName']].astype('category') "
      ],
      "execution_count": null,
      "outputs": []
    },
    {
      "cell_type": "code",
      "metadata": {
        "colab": {
          "base_uri": "https://localhost:8080/"
        },
        "id": "IxCEjD8aMy0r",
        "outputId": "c9c332e2-6a42-449c-c052-10b05a9e1da0"
      },
      "source": [
        "X_cat = X_cat.astype('category')\n",
        "X_cat.dtypes"
      ],
      "execution_count": 57,
      "outputs": [
        {
          "output_type": "execute_result",
          "data": {
            "text/plain": [
              "Gender                category\n",
              "Car_Category          category\n",
              "Subject_Car_Colour    category\n",
              "Subject_Car_Make      category\n",
              "LGA_Name              category\n",
              "State                 category\n",
              "ProductName           category\n",
              "ID                    category\n",
              "dtype: object"
            ]
          },
          "metadata": {
            "tags": []
          },
          "execution_count": 57
        }
      ]
    },
    {
      "cell_type": "code",
      "metadata": {
        "id": "4IlusUWkcp5F"
      },
      "source": [
        "X_cat.drop('ID', axis=1, inplace= True)"
      ],
      "execution_count": 58,
      "outputs": []
    },
    {
      "cell_type": "code",
      "metadata": {
        "id": "vZm6go5SytQk"
      },
      "source": [
        "for i in X_cat:\n",
        "  X_cat[i] = X_cat[i].cat.codes"
      ],
      "execution_count": 59,
      "outputs": []
    },
    {
      "cell_type": "code",
      "metadata": {
        "id": "b102YXnzEfY0"
      },
      "source": [
        "#X_cat.drop(['Gender','Car_Category','Subject_Car_Colour','Subject_Car_Make','LGA_Name','State', 'ProductName'], axis =1, inplace=True )"
      ],
      "execution_count": null,
      "outputs": []
    },
    {
      "cell_type": "code",
      "metadata": {
        "colab": {
          "base_uri": "https://localhost:8080/"
        },
        "id": "C4jt8EzVz-pI",
        "outputId": "fee137b8-2b74-419a-b510-908227ffabe6"
      },
      "source": [
        "print(\"X_encoded = {}\\nX_num = {}\\nSt = {}\".format(X_cat.shape,X_num.shape, St.shape))"
      ],
      "execution_count": 60,
      "outputs": [
        {
          "output_type": "stream",
          "text": [
            "X_encoded = (17256, 7)\n",
            "X_num = (17256, 4)\n",
            "St = (17256,)\n"
          ],
          "name": "stdout"
        }
      ]
    },
    {
      "cell_type": "code",
      "metadata": {
        "id": "kBk9IUa61FDQ"
      },
      "source": [
        "frames = [X_cat, X_num, St]\n",
        "combo_enc = pd.concat(frames, axis = 1)"
      ],
      "execution_count": 61,
      "outputs": []
    },
    {
      "cell_type": "code",
      "metadata": {
        "id": "aoXTobkA0ZQA"
      },
      "source": [
        "X_n = combo_enc[:ntrain]\n",
        "y_n = combo_enc[ntrain:]"
      ],
      "execution_count": 112,
      "outputs": []
    },
    {
      "cell_type": "code",
      "metadata": {
        "id": "tPqdqEuQ0vkS"
      },
      "source": [
        "combo_enc['Newtransact Y/N'] = np.where(combo_enc['Newtransact Y/N'] == \"No\", 0, 1)"
      ],
      "execution_count": 63,
      "outputs": []
    },
    {
      "cell_type": "code",
      "metadata": {
        "colab": {
          "base_uri": "https://localhost:8080/"
        },
        "id": "SgwjXxIG2FFX",
        "outputId": "fbe36769-c855-46f9-c394-fa1a11336318"
      },
      "source": [
        "print('Combined set is {}'.format(combo_enc.shape))"
      ],
      "execution_count": 64,
      "outputs": [
        {
          "output_type": "stream",
          "text": [
            "Combined set is (17256, 12)\n"
          ],
          "name": "stdout"
        }
      ]
    },
    {
      "cell_type": "code",
      "metadata": {
        "id": "sLVH8eQk2ID0"
      },
      "source": [
        "train_enc = combo_enc.loc[combo_enc['Status']=='Train Set']\n",
        "test_enc = combo_enc.loc[combo_enc['Status']=='Test Set']"
      ],
      "execution_count": 65,
      "outputs": []
    },
    {
      "cell_type": "code",
      "metadata": {
        "colab": {
          "base_uri": "https://localhost:8080/"
        },
        "id": "k94aZ6pL2UpU",
        "outputId": "e75ffae5-572a-476c-82b8-bdfaa0da6778"
      },
      "source": [
        "print('Encoded Train set is {}\\nEncoded Test set is {}'.format(train_enc.shape,test_enc.shape))"
      ],
      "execution_count": 66,
      "outputs": [
        {
          "output_type": "stream",
          "text": [
            "Encoded Train set is (12079, 12)\n",
            "Encoded Test set is (5177, 12)\n"
          ],
          "name": "stdout"
        }
      ]
    },
    {
      "cell_type": "code",
      "metadata": {
        "id": "J1P3VZfl2eNn"
      },
      "source": [
        "# adding target to Encoded Train set\n",
        "fr = [train_enc, sp]\n",
        "train_enc = pd.concat(fr, axis = 1)"
      ],
      "execution_count": 67,
      "outputs": []
    },
    {
      "cell_type": "code",
      "metadata": {
        "colab": {
          "base_uri": "https://localhost:8080/"
        },
        "id": "ByrR_lvWlfQY",
        "outputId": "54d45a61-bc51-4f8a-cdac-9e145dc690f3"
      },
      "source": [
        "desired_apriori=0.10\n",
        "\n",
        "# Get the indices per target value\n",
        "idx_0 = train_enc[train_enc.target == 0].index\n",
        "idx_1 = train_enc[train_enc.target == 1].index\n",
        "\n",
        "# Get original number of records per target value\n",
        "nb_0 = len(train_enc.loc[idx_0])\n",
        "nb_1 = len(train_enc.loc[idx_1])\n",
        "\n",
        "# Calculate the undersampling rate and resulting number of records with target=0\n",
        "undersampling_rate = ((1-desired_apriori)*nb_1)/(nb_0*desired_apriori)\n",
        "undersampled_nb_1 = int(undersampling_rate*nb_1)\n",
        "print('Rate to undersample records with target=0: {}'.format(undersampling_rate))\n",
        "print('Number of records with target=0 after undersampling: {}'.format(undersampled_nb_1))\n",
        "\n",
        "# Randomly select records with target=0 to get at the desired a priori\n",
        "undersampled_idx = shuffle(idx_0, random_state=37, n_samples=undersampled_nb_1)\n",
        "\n",
        "# Construct list with remaining indices\n",
        "idx_list = list(undersampled_idx) + list(idx_1)\n"
      ],
      "execution_count": 68,
      "outputs": [
        {
          "output_type": "stream",
          "text": [
            "Rate to undersample records with target=0: 1.232586596385542\n",
            "Number of records with target=0 after undersampling: 1793\n"
          ],
          "name": "stdout"
        }
      ]
    },
    {
      "cell_type": "code",
      "metadata": {
        "id": "Lox9JMS5oj8T"
      },
      "source": [
        "# Return undersample data frame\n",
        "train_enc = train_enc.loc[idx_list].reset_index(drop=True)"
      ],
      "execution_count": 69,
      "outputs": []
    },
    {
      "cell_type": "markdown",
      "metadata": {
        "id": "x41t_aT38yPy"
      },
      "source": [
        "**Frequency Transformer**"
      ]
    },
    {
      "cell_type": "code",
      "metadata": {
        "id": "LwMjnSQX6797"
      },
      "source": [
        "X_cat_freq = X_cat.copy()"
      ],
      "execution_count": 70,
      "outputs": []
    },
    {
      "cell_type": "code",
      "metadata": {
        "colab": {
          "base_uri": "https://localhost:8080/"
        },
        "id": "8E_Jw4Qe9Dj0",
        "outputId": "4cf81e9c-6148-4931-e32a-fbb47087dfac"
      },
      "source": [
        "X_cat_freq.shape\n",
        "#X_num.shape\n",
        "#St.shape"
      ],
      "execution_count": 71,
      "outputs": [
        {
          "output_type": "execute_result",
          "data": {
            "text/plain": [
              "(17256, 7)"
            ]
          },
          "metadata": {
            "tags": []
          },
          "execution_count": 71
        }
      ]
    },
    {
      "cell_type": "code",
      "metadata": {
        "id": "I_jlFmtB9SIz"
      },
      "source": [
        "for c in X_cat_freq.columns.to_list():\n",
        "    X_cat_freq[c] = X_cat_freq.groupby(c).transform('count')/len(X_cat_freq[c])"
      ],
      "execution_count": 72,
      "outputs": []
    },
    {
      "cell_type": "code",
      "metadata": {
        "id": "gyYFn8m29e_K"
      },
      "source": [
        "frames_freq = [X_cat_freq, X_num, St]\n",
        "combo_enc_freq = pd.concat(frames_freq, axis = 1)"
      ],
      "execution_count": 73,
      "outputs": []
    },
    {
      "cell_type": "code",
      "metadata": {
        "colab": {
          "base_uri": "https://localhost:8080/"
        },
        "id": "3uSrZW3v9pPQ",
        "outputId": "561f5799-c700-4a2b-f943-23dd10f090fc"
      },
      "source": [
        "combo_enc_freq.shape\n",
        "# All features and Status are together"
      ],
      "execution_count": 74,
      "outputs": [
        {
          "output_type": "execute_result",
          "data": {
            "text/plain": [
              "(17256, 12)"
            ]
          },
          "metadata": {
            "tags": []
          },
          "execution_count": 74
        }
      ]
    },
    {
      "cell_type": "code",
      "metadata": {
        "id": "AVS7eVpN3_lO"
      },
      "source": [
        "combo_enc_freq['Newtransact Y/N'] = np.where(combo_enc_freq['Newtransact Y/N'] == \"No\", 0, 1)\n",
        "#combo_enc_freq"
      ],
      "execution_count": 75,
      "outputs": []
    },
    {
      "cell_type": "code",
      "metadata": {
        "id": "5MASeh339w6p"
      },
      "source": [
        "#cut combo_enc_freq by Train and Test. Add target back to the Train portion\n",
        "train_freq = combo_enc_freq.loc[combo_enc_freq['Status']=='Train Set']\n",
        "test_freq = combo_enc_freq.loc[combo_enc_freq['Status']=='Test Set']\n"
      ],
      "execution_count": 76,
      "outputs": []
    },
    {
      "cell_type": "code",
      "metadata": {
        "colab": {
          "base_uri": "https://localhost:8080/"
        },
        "id": "eTqD6H7tPVpD",
        "outputId": "a835a09b-3db1-423c-b58a-920693a85699"
      },
      "source": [
        "train_freq.shape\n",
        "sp.shape"
      ],
      "execution_count": null,
      "outputs": [
        {
          "output_type": "execute_result",
          "data": {
            "text/plain": [
              "(12079,)"
            ]
          },
          "metadata": {
            "tags": []
          },
          "execution_count": 72
        }
      ]
    },
    {
      "cell_type": "code",
      "metadata": {
        "id": "CXuGne-L6Olt"
      },
      "source": [
        "# adding target to Encoded Train set\n",
        "fr = [train_freq, sp]\n",
        "train_freq = pd.concat(fr, axis = 1)"
      ],
      "execution_count": 77,
      "outputs": []
    },
    {
      "cell_type": "code",
      "metadata": {
        "colab": {
          "base_uri": "https://localhost:8080/"
        },
        "id": "7NxaNnkN-fKl",
        "outputId": "24778bb0-9ebb-4246-8e1a-4cf35fdd7dca"
      },
      "source": [
        "\n",
        "print(\"Respective sizes of the train set: {}\\nOf the test set: {}\\nOf the prices array:{}\".format(train_freq.shape,test_freq.shape, sp.shape))"
      ],
      "execution_count": 78,
      "outputs": [
        {
          "output_type": "stream",
          "text": [
            "Respective sizes of the train set: (12079, 13)\n",
            "Of the test set: (5177, 12)\n",
            "Of the prices array:(12079,)\n"
          ],
          "name": "stdout"
        }
      ]
    },
    {
      "cell_type": "code",
      "metadata": {
        "id": "9lkO4hcB-xbV"
      },
      "source": [
        "from sklearn.model_selection import train_test_split\n",
        "features_freq = train_freq.drop(['target','Status'], axis = 1)\n",
        "result_freq = train_freq['target']\n",
        "\n",
        "X_train_freq, X_test_freq, y_train_freq, y_test_freq = train_test_split(features_freq, result_freq, test_size = 0.33, random_state = 12)"
      ],
      "execution_count": 79,
      "outputs": []
    },
    {
      "cell_type": "code",
      "metadata": {
        "colab": {
          "base_uri": "https://localhost:8080/",
          "height": 461
        },
        "id": "9f23gmlZGuW4",
        "outputId": "dbdd947c-c2a1-4078-a6f2-8fabaf57b087"
      },
      "source": [
        "X_train_freq"
      ],
      "execution_count": 80,
      "outputs": [
        {
          "output_type": "execute_result",
          "data": {
            "text/html": [
              "<div>\n",
              "<style scoped>\n",
              "    .dataframe tbody tr th:only-of-type {\n",
              "        vertical-align: middle;\n",
              "    }\n",
              "\n",
              "    .dataframe tbody tr th {\n",
              "        vertical-align: top;\n",
              "    }\n",
              "\n",
              "    .dataframe thead th {\n",
              "        text-align: right;\n",
              "    }\n",
              "</style>\n",
              "<table border=\"1\" class=\"dataframe\">\n",
              "  <thead>\n",
              "    <tr style=\"text-align: right;\">\n",
              "      <th></th>\n",
              "      <th>Gender</th>\n",
              "      <th>Car_Category</th>\n",
              "      <th>Subject_Car_Colour</th>\n",
              "      <th>Subject_Car_Make</th>\n",
              "      <th>LGA_Name</th>\n",
              "      <th>State</th>\n",
              "      <th>ProductName</th>\n",
              "      <th>Age</th>\n",
              "      <th>No_Pol</th>\n",
              "      <th>Newtransact Y/N</th>\n",
              "      <th>Age of policy</th>\n",
              "    </tr>\n",
              "  </thead>\n",
              "  <tbody>\n",
              "    <tr>\n",
              "      <th>625</th>\n",
              "      <td>0.630969</td>\n",
              "      <td>0.311544</td>\n",
              "      <td>0.577596</td>\n",
              "      <td>0.204972</td>\n",
              "      <td>0.536509</td>\n",
              "      <td>0.537552</td>\n",
              "      <td>0.312065</td>\n",
              "      <td>32</td>\n",
              "      <td>1</td>\n",
              "      <td>0</td>\n",
              "      <td>364.0</td>\n",
              "    </tr>\n",
              "    <tr>\n",
              "      <th>5645</th>\n",
              "      <td>0.630969</td>\n",
              "      <td>0.499073</td>\n",
              "      <td>0.577596</td>\n",
              "      <td>0.085999</td>\n",
              "      <td>0.003709</td>\n",
              "      <td>0.004520</td>\n",
              "      <td>0.038943</td>\n",
              "      <td>39</td>\n",
              "      <td>1</td>\n",
              "      <td>0</td>\n",
              "      <td>364.0</td>\n",
              "    </tr>\n",
              "    <tr>\n",
              "      <th>8763</th>\n",
              "      <td>0.630969</td>\n",
              "      <td>0.311544</td>\n",
              "      <td>0.577596</td>\n",
              "      <td>0.204972</td>\n",
              "      <td>0.536509</td>\n",
              "      <td>0.537552</td>\n",
              "      <td>0.536857</td>\n",
              "      <td>48</td>\n",
              "      <td>1</td>\n",
              "      <td>0</td>\n",
              "      <td>364.0</td>\n",
              "    </tr>\n",
              "    <tr>\n",
              "      <th>11193</th>\n",
              "      <td>0.630969</td>\n",
              "      <td>0.311544</td>\n",
              "      <td>0.577596</td>\n",
              "      <td>0.204972</td>\n",
              "      <td>0.536509</td>\n",
              "      <td>0.537552</td>\n",
              "      <td>0.536857</td>\n",
              "      <td>44</td>\n",
              "      <td>1</td>\n",
              "      <td>0</td>\n",
              "      <td>364.0</td>\n",
              "    </tr>\n",
              "    <tr>\n",
              "      <th>8082</th>\n",
              "      <td>0.023934</td>\n",
              "      <td>0.002608</td>\n",
              "      <td>0.023528</td>\n",
              "      <td>0.411393</td>\n",
              "      <td>0.004057</td>\n",
              "      <td>0.263676</td>\n",
              "      <td>0.039465</td>\n",
              "      <td>20</td>\n",
              "      <td>1</td>\n",
              "      <td>0</td>\n",
              "      <td>364.0</td>\n",
              "    </tr>\n",
              "    <tr>\n",
              "      <th>...</th>\n",
              "      <td>...</td>\n",
              "      <td>...</td>\n",
              "      <td>...</td>\n",
              "      <td>...</td>\n",
              "      <td>...</td>\n",
              "      <td>...</td>\n",
              "      <td>...</td>\n",
              "      <td>...</td>\n",
              "      <td>...</td>\n",
              "      <td>...</td>\n",
              "      <td>...</td>\n",
              "    </tr>\n",
              "    <tr>\n",
              "      <th>3714</th>\n",
              "      <td>0.630969</td>\n",
              "      <td>0.499073</td>\n",
              "      <td>0.577596</td>\n",
              "      <td>0.019935</td>\n",
              "      <td>0.536509</td>\n",
              "      <td>0.537552</td>\n",
              "      <td>0.312065</td>\n",
              "      <td>30</td>\n",
              "      <td>1</td>\n",
              "      <td>0</td>\n",
              "      <td>364.0</td>\n",
              "    </tr>\n",
              "    <tr>\n",
              "      <th>7409</th>\n",
              "      <td>0.630969</td>\n",
              "      <td>0.499073</td>\n",
              "      <td>0.577596</td>\n",
              "      <td>0.411393</td>\n",
              "      <td>0.536509</td>\n",
              "      <td>0.537552</td>\n",
              "      <td>0.312065</td>\n",
              "      <td>42</td>\n",
              "      <td>1</td>\n",
              "      <td>0</td>\n",
              "      <td>364.0</td>\n",
              "    </tr>\n",
              "    <tr>\n",
              "      <th>3325</th>\n",
              "      <td>0.274397</td>\n",
              "      <td>0.499073</td>\n",
              "      <td>0.577596</td>\n",
              "      <td>0.411393</td>\n",
              "      <td>0.536509</td>\n",
              "      <td>0.537552</td>\n",
              "      <td>0.312065</td>\n",
              "      <td>37</td>\n",
              "      <td>1</td>\n",
              "      <td>0</td>\n",
              "      <td>364.0</td>\n",
              "    </tr>\n",
              "    <tr>\n",
              "      <th>9606</th>\n",
              "      <td>0.274397</td>\n",
              "      <td>0.166203</td>\n",
              "      <td>0.154613</td>\n",
              "      <td>0.000290</td>\n",
              "      <td>0.096720</td>\n",
              "      <td>0.263676</td>\n",
              "      <td>0.536857</td>\n",
              "      <td>55</td>\n",
              "      <td>2</td>\n",
              "      <td>0</td>\n",
              "      <td>364.0</td>\n",
              "    </tr>\n",
              "    <tr>\n",
              "      <th>5787</th>\n",
              "      <td>0.274397</td>\n",
              "      <td>0.499073</td>\n",
              "      <td>0.577596</td>\n",
              "      <td>0.411393</td>\n",
              "      <td>0.536509</td>\n",
              "      <td>0.537552</td>\n",
              "      <td>0.536857</td>\n",
              "      <td>48</td>\n",
              "      <td>1</td>\n",
              "      <td>0</td>\n",
              "      <td>364.0</td>\n",
              "    </tr>\n",
              "  </tbody>\n",
              "</table>\n",
              "<p>8092 rows × 11 columns</p>\n",
              "</div>"
            ],
            "text/plain": [
              "         Gender  Car_Category  ...  Newtransact Y/N  Age of policy\n",
              "625    0.630969      0.311544  ...                0          364.0\n",
              "5645   0.630969      0.499073  ...                0          364.0\n",
              "8763   0.630969      0.311544  ...                0          364.0\n",
              "11193  0.630969      0.311544  ...                0          364.0\n",
              "8082   0.023934      0.002608  ...                0          364.0\n",
              "...         ...           ...  ...              ...            ...\n",
              "3714   0.630969      0.499073  ...                0          364.0\n",
              "7409   0.630969      0.499073  ...                0          364.0\n",
              "3325   0.274397      0.499073  ...                0          364.0\n",
              "9606   0.274397      0.166203  ...                0          364.0\n",
              "5787   0.274397      0.499073  ...                0          364.0\n",
              "\n",
              "[8092 rows x 11 columns]"
            ]
          },
          "metadata": {
            "tags": []
          },
          "execution_count": 80
        }
      ]
    },
    {
      "cell_type": "code",
      "metadata": {
        "colab": {
          "base_uri": "https://localhost:8080/",
          "height": 354
        },
        "id": "_anPZimEAb09",
        "outputId": "79fe707c-9d2d-4f09-ed02-e3b79d84ba48"
      },
      "source": [
        "# it is a multi-modal plot have mean about zeros  and ones\n",
        "sns.distplot(train_enc['target'])\n",
        "plt.axvline(train_enc['target'].mean(), color=\"k\", linestyle=\"--\")"
      ],
      "execution_count": 81,
      "outputs": [
        {
          "output_type": "stream",
          "text": [
            "/usr/local/lib/python3.6/dist-packages/seaborn/distributions.py:2551: FutureWarning: `distplot` is a deprecated function and will be removed in a future version. Please adapt your code to use either `displot` (a figure-level function with similar flexibility) or `histplot` (an axes-level function for histograms).\n",
            "  warnings.warn(msg, FutureWarning)\n"
          ],
          "name": "stderr"
        },
        {
          "output_type": "execute_result",
          "data": {
            "text/plain": [
              "<matplotlib.lines.Line2D at 0x7fd67bc1d8d0>"
            ]
          },
          "metadata": {
            "tags": []
          },
          "execution_count": 81
        },
        {
          "output_type": "display_data",
          "data": {
            "image/png": "[encoded data removed]",
            "text/plain": [
              "<Figure size 432x288 with 1 Axes>"
            ]
          },
          "metadata": {
            "tags": [],
            "needs_background": "light"
          }
        }
      ]
    },
    {
      "cell_type": "code",
      "metadata": {
        "id": "Ijr7vxDVDrsj"
      },
      "source": [
        "features = train_enc.drop(['target','Status'], axis = 1)\n",
        "result = train_enc['target']"
      ],
      "execution_count": 82,
      "outputs": []
    },
    {
      "cell_type": "code",
      "metadata": {
        "id": "NIHGKOJtD7mV"
      },
      "source": [
        "X_train, X_test, y_train, y_test = train_test_split(features, result, test_size = 0.33, random_state = 12)"
      ],
      "execution_count": 83,
      "outputs": []
    },
    {
      "cell_type": "markdown",
      "metadata": {
        "id": "bWyjssH4DL6j"
      },
      "source": [
        "**Machine Learning Part**"
      ]
    },
    {
      "cell_type": "code",
      "metadata": {
        "id": "uAz831deCNZv"
      },
      "source": [
        "from sklearn.preprocessing import StandardScaler"
      ],
      "execution_count": 84,
      "outputs": []
    },
    {
      "cell_type": "code",
      "metadata": {
        "id": "5csqac4Jk2d-"
      },
      "source": [
        "ss = StandardScaler()\n",
        "X_train = ss.fit_transform(X_train)"
      ],
      "execution_count": 85,
      "outputs": []
    },
    {
      "cell_type": "code",
      "metadata": {
        "id": "RvDXOpEDlEFs"
      },
      "source": [
        "from sklearn.linear_model import LinearRegression"
      ],
      "execution_count": 86,
      "outputs": []
    },
    {
      "cell_type": "code",
      "metadata": {
        "id": "Ss6y60WrpWdl"
      },
      "source": [
        "lg = LinearRegression()\n",
        "lg.fit(X_train, y_train)\n",
        "prediction_1 = lg.predict(X_test)"
      ],
      "execution_count": 87,
      "outputs": []
    },
    {
      "cell_type": "code",
      "metadata": {
        "id": "Yk-BfHm4pd2d"
      },
      "source": [
        "from sklearn.metrics import explained_variance_score, mean_squared_error, r2_score"
      ],
      "execution_count": 88,
      "outputs": []
    },
    {
      "cell_type": "code",
      "metadata": {
        "colab": {
          "base_uri": "https://localhost:8080/"
        },
        "id": "IwqM7-jKpmBt",
        "outputId": "391b0fcc-a37a-4493-d02d-a9143eed6d8e"
      },
      "source": [
        "r2_score(y_test, prediction_1)\n",
        "mean_squared_error(y_test, prediction_1)"
      ],
      "execution_count": 89,
      "outputs": [
        {
          "output_type": "execute_result",
          "data": {
            "text/plain": [
              "323.38295184887875"
            ]
          },
          "metadata": {
            "tags": []
          },
          "execution_count": 89
        }
      ]
    },
    {
      "cell_type": "code",
      "metadata": {
        "id": "5Naf8_282lH9"
      },
      "source": [
        "predicted = lg.predict(y_n)"
      ],
      "execution_count": 134,
      "outputs": []
    },
    {
      "cell_type": "markdown",
      "metadata": {
        "id": "0f-bs_9Ap3Jl"
      },
      "source": [
        "**Regression and lasso**"
      ]
    },
    {
      "cell_type": "code",
      "metadata": {
        "colab": {
          "base_uri": "https://localhost:8080/"
        },
        "id": "QEsl8jn7qGor",
        "outputId": "ccd51b86-2ffe-467d-afa0-16ca708b7fe2"
      },
      "source": [
        "print(\"For the test set, the mean squared error is {}, and R2 is {:.2%}\".format(np.sqrt(mean_squared_error(y_test, prediction_1)),r2_score(y_test, prediction_1)))"
      ],
      "execution_count": 90,
      "outputs": [
        {
          "output_type": "stream",
          "text": [
            "For the test set, the mean squared error is 17.982851605039695, and R2 is -129977.60%\n"
          ],
          "name": "stdout"
        }
      ]
    },
    {
      "cell_type": "code",
      "metadata": {
        "id": "ho0ByuX7s8jn"
      },
      "source": [
        "from sklearn.linear_model import Lasso"
      ],
      "execution_count": 92,
      "outputs": []
    },
    {
      "cell_type": "code",
      "metadata": {
        "colab": {
          "base_uri": "https://localhost:8080/"
        },
        "id": "kfB4HuvatHj3",
        "outputId": "2bd61424-f7e2-4499-e0a0-287f0925c958"
      },
      "source": [
        "model_lasso = Lasso(alpha=0.01)\n",
        "model_lasso.fit(X_train, y_train)"
      ],
      "execution_count": 93,
      "outputs": [
        {
          "output_type": "execute_result",
          "data": {
            "text/plain": [
              "Lasso(alpha=0.01, copy_X=True, fit_intercept=True, max_iter=1000,\n",
              "      normalize=False, positive=False, precompute=False, random_state=None,\n",
              "      selection='cyclic', tol=0.0001, warm_start=False)"
            ]
          },
          "metadata": {
            "tags": []
          },
          "execution_count": 93
        }
      ]
    },
    {
      "cell_type": "code",
      "metadata": {
        "colab": {
          "base_uri": "https://localhost:8080/"
        },
        "id": "3iKAn2g2tPOX",
        "outputId": "e0e5d871-6217-4bd0-caa0-46528e88b91e"
      },
      "source": [
        "pred_train_lasso= model_lasso.predict(X_train)\n",
        "pred_test_lasso= model_lasso.predict(X_test)\n",
        "print(\"After lasso, for the test set, the mean squared error is {:2}, and R2 is {:.2%}\".format(np.sqrt(mean_squared_error(y_test,pred_test_lasso)), r2_score(y_test, pred_test_lasso)))\n",
        "print(\"After lasso, for the train set, the mean squared error is {:2}, and R2 is {:.2%}\".format(np.sqrt(mean_squared_error(y_train,pred_train_lasso)), r2_score(y_train, pred_train_lasso)))"
      ],
      "execution_count": 94,
      "outputs": [
        {
          "output_type": "stream",
          "text": [
            "After lasso, for the test set, the mean squared error is 14.810774085707035, and R2 is -88135.01%\n",
            "After lasso, for the train set, the mean squared error is 0.46566554993340725, and R2 is 12.03%\n"
          ],
          "name": "stdout"
        }
      ]
    },
    {
      "cell_type": "code",
      "metadata": {
        "id": "2aJbWQM0te4l"
      },
      "source": [
        "# GridSearch for lasso parameters\n",
        "# Should be done on the whole dataset before the train and test split\n",
        "from sklearn.model_selection import GridSearchCV"
      ],
      "execution_count": null,
      "outputs": []
    },
    {
      "cell_type": "code",
      "metadata": {
        "colab": {
          "base_uri": "https://localhost:8080/"
        },
        "id": "A1bmbZx2t09g",
        "outputId": "d673d6a2-68b3-44a6-dc5b-2f8fe738f6e8"
      },
      "source": [
        "alp = [0.01, 0.02, 0.03, 0.04, 0.05, 0.06, 0.07, 0.08, 0.09]\n",
        "max_i = [1000, 1500, 2000, 2500]\n",
        "param_grid = dict(alpha = alp, max_iter = max_i)\n",
        "gsc = GridSearchCV(\n",
        "    estimator = Lasso(),\n",
        "    param_grid = param_grid)\n",
        "result_gsc = gsc.fit(features, result)\n",
        "\n",
        "print(\"Best score: %f using %s\" % (result_gsc.best_score_, result_gsc.best_params_))\n",
        "means = result_gsc.cv_results_['mean_test_score']\n",
        "stds = result_gsc.cv_results_['std_test_score']\n",
        "params = result_gsc.cv_results_['params']"
      ],
      "execution_count": null,
      "outputs": [
        {
          "output_type": "stream",
          "text": [
            "Best score: -0.046743 using {'alpha': 0.08, 'max_iter': 1000}\n"
          ],
          "name": "stdout"
        }
      ]
    },
    {
      "cell_type": "code",
      "metadata": {
        "id": "8Re1XsnruN4J"
      },
      "source": [
        "from sklearn.model_selection import cross_validate"
      ],
      "execution_count": null,
      "outputs": []
    },
    {
      "cell_type": "code",
      "metadata": {
        "colab": {
          "base_uri": "https://localhost:8080/"
        },
        "id": "zJxZB6P8uWt_",
        "outputId": "b4671a4d-55ee-4945-cb33-a039eba3225d"
      },
      "source": [
        "sc = cross_validate(lg, X_train, y_train, scoring='r2', cv=3, return_train_score = True)   \n",
        "print(\"R2 Scores are {}\\nIts mean is {}\".format(sc['test_score'],sc['test_score'].mean()))"
      ],
      "execution_count": null,
      "outputs": [
        {
          "output_type": "stream",
          "text": [
            "R2 Scores are [0.10120437 0.11275678 0.12155915]\n",
            "Its mean is 0.1118401021768195\n"
          ],
          "name": "stdout"
        }
      ]
    },
    {
      "cell_type": "code",
      "metadata": {
        "colab": {
          "base_uri": "https://localhost:8080/"
        },
        "id": "7PZX-g6yuadS",
        "outputId": "7efa7eec-8fcf-4280-c636-41325bdc1532"
      },
      "source": [
        "sc = cross_validate(lg, X_train, y_train, scoring='explained_variance', cv=3, return_train_score = True)   \n",
        "print(sc['test_score'].mean())"
      ],
      "execution_count": null,
      "outputs": [
        {
          "output_type": "stream",
          "text": [
            "0.11306255569844433\n"
          ],
          "name": "stdout"
        }
      ]
    },
    {
      "cell_type": "code",
      "metadata": {
        "colab": {
          "base_uri": "https://localhost:8080/"
        },
        "id": "AhzIiAwEuh3w",
        "outputId": "3d67c0fb-f480-4caf-cdb8-72095620c1d1"
      },
      "source": [
        "sc = cross_validate(lg, X_train, y_train, scoring='max_error', cv=3, return_train_score = True)   \n",
        "print(sc['test_score'].mean())"
      ],
      "execution_count": null,
      "outputs": [
        {
          "output_type": "stream",
          "text": [
            "-1.106151592015437\n"
          ],
          "name": "stdout"
        }
      ]
    },
    {
      "cell_type": "markdown",
      "metadata": {
        "id": "nd5bTsnQutQx"
      },
      "source": [
        "**Linear Regression and Xgboost**"
      ]
    },
    {
      "cell_type": "code",
      "metadata": {
        "id": "jqu_Uhncu4Dy"
      },
      "source": [
        "import xgboost as xgb\n",
        "from sklearn.linear_model import LinearRegression\n",
        "from sklearn.model_selection import StratifiedKFold\n",
        "import math"
      ],
      "execution_count": 95,
      "outputs": []
    },
    {
      "cell_type": "code",
      "metadata": {
        "id": "9jrZo48LvGjS"
      },
      "source": [
        "regr_freq = LinearRegression()"
      ],
      "execution_count": 96,
      "outputs": []
    },
    {
      "cell_type": "code",
      "metadata": {
        "colab": {
          "base_uri": "https://localhost:8080/"
        },
        "id": "NKEB2TICvO1u",
        "outputId": "33449498-20f9-4ea8-bd30-66b8b244e543"
      },
      "source": [
        "regr_freq.fit(X_train_freq, y_train_freq)"
      ],
      "execution_count": 97,
      "outputs": [
        {
          "output_type": "execute_result",
          "data": {
            "text/plain": [
              "LinearRegression(copy_X=True, fit_intercept=True, n_jobs=None, normalize=False)"
            ]
          },
          "metadata": {
            "tags": []
          },
          "execution_count": 97
        }
      ]
    },
    {
      "cell_type": "code",
      "metadata": {
        "colab": {
          "base_uri": "https://localhost:8080/"
        },
        "id": "9yGSkQNfvVGe",
        "outputId": "933f6315-4b11-4542-ced0-483e3159cb26"
      },
      "source": [
        "print(\"RMSE is: {:.2f}\\nR_squared is {:.2f}%\".format(math.sqrt(np.mean((regr_freq.predict(X_test_freq) - y_test_freq) ** 2)),regr_freq.score(X_test_freq,y_test_freq)*100))"
      ],
      "execution_count": 98,
      "outputs": [
        {
          "output_type": "stream",
          "text": [
            "RMSE is: 0.32\n",
            "R_squared is 5.53%\n"
          ],
          "name": "stdout"
        }
      ]
    },
    {
      "cell_type": "code",
      "metadata": {
        "id": "ZB1AMUrqvbBP"
      },
      "source": [
        "xgb_freq = xgb.XGBRegressor(n_estimators=100, learning_rate=0.08, gamma=0, subsample=0.75, colsample_bytree=1, max_depth=7)"
      ],
      "execution_count": 99,
      "outputs": []
    },
    {
      "cell_type": "code",
      "metadata": {
        "colab": {
          "base_uri": "https://localhost:8080/"
        },
        "id": "6Yyb9rPWvnaW",
        "outputId": "aeb8c59b-1c30-489f-b63f-f2c231e71ab6"
      },
      "source": [
        "xgb_freq.fit(X_train_freq,y_train_freq)\n",
        "predictions_xgb_freq = xgb_freq.predict(X_test_freq)\n",
        "print(\"The explained variance is {:.2f}\".format(explained_variance_score(predictions_xgb_freq,y_test_freq)))"
      ],
      "execution_count": 100,
      "outputs": [
        {
          "output_type": "stream",
          "text": [
            "[08:41:39] WARNING: /workspace/src/objective/regression_obj.cu:152: reg:linear is now deprecated in favor of reg:squarederror.\n",
            "The explained variance is -3.12\n"
          ],
          "name": "stdout"
        }
      ]
    },
    {
      "cell_type": "markdown",
      "metadata": {
        "id": "hNufkzWMv2ii"
      },
      "source": [
        "**Grid Search Boost**"
      ]
    },
    {
      "cell_type": "code",
      "metadata": {
        "colab": {
          "base_uri": "https://localhost:8080/"
        },
        "id": "JiRdpx8Rvvn6",
        "outputId": "7a489bab-9d0b-4f8a-853d-ed49a1f30077"
      },
      "source": [
        "# TAKES TIME\n",
        "n_estimators = [80, 100, 120, 140, 160]\n",
        "max_depth = [4, 5, 6, 7, 8, 9, 10]\n",
        "learning_rate = [0.0001, 0.001, 0.005, 0.01, 0.1, 0.2, 0.3, 0.04]\n",
        "param_grid = dict(max_depth = max_depth, n_estimators = n_estimators, learning_rate=learning_rate)\n",
        "kfold = StratifiedKFold(n_splits = 10, shuffle = True, random_state = 10)\n",
        "grid_search_xg_freq = GridSearchCV(xgb_freq, param_grid, scoring = 'r2', n_jobs = -1, cv=kfold, verbose = 1)\n",
        "result_gcv_xgb_freq = grid_search_xg_freq.fit(X_train_freq, y_train_freq.astype(int))"
      ],
      "execution_count": null,
      "outputs": [
        {
          "output_type": "stream",
          "text": [
            "Fitting 10 folds for each of 280 candidates, totalling 2800 fits\n"
          ],
          "name": "stdout"
        },
        {
          "output_type": "stream",
          "text": [
            "[Parallel(n_jobs=-1)]: Using backend LokyBackend with 2 concurrent workers.\n",
            "[Parallel(n_jobs=-1)]: Done  46 tasks      | elapsed:   24.8s\n",
            "[Parallel(n_jobs=-1)]: Done 196 tasks      | elapsed:  2.4min\n",
            "[Parallel(n_jobs=-1)]: Done 446 tasks      | elapsed:  6.8min\n",
            "[Parallel(n_jobs=-1)]: Done 796 tasks      | elapsed: 12.6min\n",
            "[Parallel(n_jobs=-1)]: Done 1246 tasks      | elapsed: 19.9min\n",
            "[Parallel(n_jobs=-1)]: Done 1796 tasks      | elapsed: 29.4min\n",
            "[Parallel(n_jobs=-1)]: Done 2446 tasks      | elapsed: 40.1min\n",
            "[Parallel(n_jobs=-1)]: Done 2800 out of 2800 | elapsed: 45.9min finished\n"
          ],
          "name": "stderr"
        },
        {
          "output_type": "stream",
          "text": [
            "[19:25:14] WARNING: /workspace/src/objective/regression_obj.cu:152: reg:linear is now deprecated in favor of reg:squarederror.\n"
          ],
          "name": "stdout"
        }
      ]
    },
    {
      "cell_type": "code",
      "metadata": {
        "colab": {
          "base_uri": "https://localhost:8080/"
        },
        "id": "8wOPtKvowVBZ",
        "outputId": "1cd27439-72c0-4a51-c195-8e6b51a926b8"
      },
      "source": [
        "print(\"Best score: %f using %s\" % (result_gcv_xgb_freq.best_score_, result_gcv_xgb_freq.best_params_))\n",
        "means = result_gcv_xgb_freq.cv_results_['mean_test_score']\n",
        "stds = result_gcv_xgb_freq.cv_results_['std_test_score']\n",
        "params = result_gcv_xgb_freq.cv_results_['params']\n"
      ],
      "execution_count": null,
      "outputs": [
        {
          "output_type": "stream",
          "text": [
            "Best score: 0.128667 using {'learning_rate': 0.04, 'max_depth': 4, 'n_estimators': 160}\n"
          ],
          "name": "stdout"
        }
      ]
    },
    {
      "cell_type": "code",
      "metadata": {
        "colab": {
          "base_uri": "https://localhost:8080/"
        },
        "id": "IM2u0mhc7ELx",
        "outputId": "dafc3049-9cc2-4fb1-9c63-761f81126dbd"
      },
      "source": [
        "# Rebuilding using the best parameters:\n",
        "xgb_freq = xgb.XGBRegressor(n_estimators=160, learning_rate=0.04, gamma=0, subsample=0.75,\n",
        "                           colsample_bytree=1, max_depth=4)\n",
        "\n",
        "xgb_freq.fit(X_train_freq,y_train_freq)\n",
        "predictions_xgb_freq = xgb_freq.predict(X_test_freq)\n",
        "print(\"R squared is {}\".format(explained_variance_score(predictions_xgb_freq,y_test_freq)))"
      ],
      "execution_count": null,
      "outputs": [
        {
          "output_type": "stream",
          "text": [
            "[19:28:51] WARNING: /workspace/src/objective/regression_obj.cu:152: reg:linear is now deprecated in favor of reg:squarederror.\n",
            "R squared is -5.6517950882697185\n"
          ],
          "name": "stdout"
        }
      ]
    },
    {
      "cell_type": "code",
      "metadata": {
        "colab": {
          "base_uri": "https://localhost:8080/"
        },
        "id": "TWKK0HRH7fBb",
        "outputId": "075e471f-e98a-4192-af2f-2a2eb7cccbdf"
      },
      "source": [
        "model_lasso = Lasso(alpha=0.01)\n",
        "model_lasso.fit(X_train_freq, y_train_freq)\n",
        "\n",
        "pred_train_lasso_freq= model_lasso.predict(X_train_freq)\n",
        "pred_test_lasso_freq= model_lasso.predict(X_test_freq)\n",
        "print(\"After lasso, for the test set, the mean squared error is {:2}, and R2 is {:.2%}\".format(\n",
        "     np.sqrt(mean_squared_error(y_test_freq,pred_test_lasso_freq)), r2_score(y_test_freq, pred_test_lasso_freq)))\n",
        "print(\"After lasso, for the train set, the mean squared error is {:2}, and R2 is {:.2%}\".format(\n",
        "     np.sqrt(mean_squared_error(y_train_freq,pred_train_lasso_freq)), r2_score(y_train_freq, pred_train_lasso_freq)))"
      ],
      "execution_count": null,
      "outputs": [
        {
          "output_type": "stream",
          "text": [
            "After lasso, for the test set, the mean squared error is 0.3218547376236606, and R2 is 3.39%\n",
            "After lasso, for the train set, the mean squared error is 0.3185956685544667, and R2 is 3.62%\n"
          ],
          "name": "stdout"
        }
      ]
    },
    {
      "cell_type": "code",
      "metadata": {
        "id": "KikD5keQ0ylQ"
      },
      "source": [
        "predicted = model_lasso.predict(y_n)"
      ],
      "execution_count": 130,
      "outputs": []
    },
    {
      "cell_type": "markdown",
      "metadata": {
        "id": "TLwoLHaFsY4c"
      },
      "source": [
        "**Train on full train dataset**"
      ]
    },
    {
      "cell_type": "markdown",
      "metadata": {
        "id": "98aW7HEEm_MH"
      },
      "source": [
        "[link text](https://pbpython.com/categorical-encoding.html)    \n",
        "**Logistic Regression**"
      ]
    },
    {
      "cell_type": "code",
      "metadata": {
        "id": "DRCUUh9p_OTG"
      },
      "source": [
        "import xgboost as xgb\n",
        "from sklearn.linear_model import LinearRegression\n",
        "from sklearn.model_selection import StratifiedKFold\n",
        "import math"
      ],
      "execution_count": 101,
      "outputs": []
    },
    {
      "cell_type": "markdown",
      "metadata": {
        "id": "CLRhr5L-iP4v"
      },
      "source": [
        "**Split into test and train**"
      ]
    },
    {
      "cell_type": "code",
      "metadata": {
        "colab": {
          "base_uri": "https://localhost:8080/"
        },
        "id": "FLexmdBzcRg_",
        "outputId": "18d3c9f1-be61-4ead-cc9f-d057512017b2"
      },
      "source": [
        "from sklearn.model_selection import train_test_split, cross_validate\n",
        "\n",
        "#Scaling and outlier removed\n",
        "X_train, X_test, y_train, y_test = train_test_split(features,result, test_size=0.3, random_state=42)\n",
        "\n",
        "models = LogisticRegression(random_state=42, n_jobs=-1)\n",
        "cv = cross_validate(models,X_train,y_train,cv = 3, n_jobs=-1, return_estimator=True)\n",
        "\n",
        "print(\"Mean training accuracy: {}\".format(np.mean(cv['test_score'])))\n",
        "print(\"Test accuracy: {}\".format(cv[\"estimator\"][0].score(X_test,y_test)))"
      ],
      "execution_count": 102,
      "outputs": [
        {
          "output_type": "stream",
          "text": [
            "Mean training accuracy: 0.6093255676424901\n",
            "Test accuracy: 0.5948717948717949\n"
          ],
          "name": "stdout"
        }
      ]
    },
    {
      "cell_type": "code",
      "metadata": {
        "colab": {
          "base_uri": "https://localhost:8080/",
          "height": 505
        },
        "id": "dEfWlLhm_0_m",
        "outputId": "7105bc7a-6920-42fd-b1ae-2bba1895792f"
      },
      "source": [
        "from sklearn.metrics import confusion_matrix\n",
        "import matplotlib.pyplot as plt\n",
        "import seaborn as sns\n",
        "pred = cv[\"estimator\"][0].predict(X_test)\n",
        "\n",
        "cm = confusion_matrix(y_test, pred)\n",
        "plt.figure(figsize=(12, 8))\n",
        "ax =sns.heatmap(cm, square=True, annot=True, cbar=False)\n",
        "ax.xaxis.set_ticklabels([\"False\",\"True\"], fontsize = 12)\n",
        "ax.yaxis.set_ticklabels([\"False\",\"True\"], fontsize = 12, rotation=0)\n",
        "ax.set_xlabel('Predicted Labels',fontsize = 15)\n",
        "ax.set_ylabel('True Labels',fontsize = 15)\n",
        "plt.show()"
      ],
      "execution_count": null,
      "outputs": [
        {
          "output_type": "display_data",
          "data": {
            "image/png": "[encoded data removed]",
            "text/plain": [
              "<Figure size 864x576 with 1 Axes>"
            ]
          },
          "metadata": {
            "tags": [],
            "needs_background": "light"
          }
        }
      ]
    },
    {
      "cell_type": "code",
      "metadata": {
        "colab": {
          "base_uri": "https://localhost:8080/"
        },
        "id": "2fe2yUAaCZlp",
        "outputId": "57baa08c-9b6a-43d1-cbf5-5766c64861e9"
      },
      "source": [
        "from sklearn.metrics import classification_report\n",
        "print(classification_report(y_test, cv[\"estimator\"][0].predict(X_test)))"
      ],
      "execution_count": 103,
      "outputs": [
        {
          "output_type": "stream",
          "text": [
            "              precision    recall  f1-score   support\n",
            "\n",
            "           0       0.63      0.67      0.65       549\n",
            "           1       0.54      0.49      0.52       426\n",
            "\n",
            "    accuracy                           0.59       975\n",
            "   macro avg       0.59      0.58      0.58       975\n",
            "weighted avg       0.59      0.59      0.59       975\n",
            "\n"
          ],
          "name": "stdout"
        }
      ]
    },
    {
      "cell_type": "code",
      "metadata": {
        "colab": {
          "base_uri": "https://localhost:8080/"
        },
        "id": "4bs4F7_fDC9-",
        "outputId": "196e722f-ef68-46aa-f46d-d057272fc247"
      },
      "source": [
        "from sklearn.metrics import f1_score, accuracy_score, recall_score, precision_score\n",
        "\n",
        "final_model = cv[\"estimator\"][0]\n",
        "\n",
        "y_pred = final_model.predict(X_test)\n",
        "\n",
        "print(\"Accuracy:\",accuracy_score(y_test,y_pred))\n",
        "print(\"Precision:\",precision_score(y_test,y_pred))\n",
        "print(\"Recall:\",recall_score(y_test,y_pred))\n",
        "print(\"F1 Score:\",f1_score(y_test,y_pred))"
      ],
      "execution_count": 104,
      "outputs": [
        {
          "output_type": "stream",
          "text": [
            "Accuracy: 0.5948717948717949\n",
            "Precision: 0.5398457583547558\n",
            "Recall: 0.49295774647887325\n",
            "F1 Score: 0.5153374233128835\n"
          ],
          "name": "stdout"
        }
      ]
    },
    {
      "cell_type": "code",
      "metadata": {
        "colab": {
          "base_uri": "https://localhost:8080/",
          "height": 486
        },
        "id": "eiKVDjPRDXLC",
        "outputId": "c4e9fcd9-a85c-4ec8-83f2-94c31797a421"
      },
      "source": [
        "y_pred_prop = final_model.predict_proba(X_test)[:,1]\n",
        "\n",
        "fpr_log, tpr_log, _ = roc_curve(y_test, y_pred_prop)\n",
        "roc_auc_log = auc(fpr_log, tpr_log)\n",
        "\n",
        "sns.set_style(\"white\")\n",
        "plt.figure(figsize=(10, 7))\n",
        "plt.plot(fpr_log, tpr_log, color='darkorange',\n",
        "         label='ROC curve (area = %0.2f)' % roc_auc_log)\n",
        "plt.plot([0, 1], [0, 1], color='navy', linestyle='--')\n",
        "plt.xlim([0.0, 1.0])\n",
        "plt.ylim([0.0, 1.05])\n",
        "plt.xlabel('False Positive Rate',fontsize=18,labelpad =10)\n",
        "plt.ylabel('True Positive Rate',fontsize=18)\n",
        "plt.title('Receiver Operating Characteristic',fontsize=22).set_position([.5, 1.02])\n",
        "plt.legend(loc=\"lower right\",fontsize=13)\n",
        "plt.show()"
      ],
      "execution_count": 105,
      "outputs": [
        {
          "output_type": "display_data",
          "data": {
            "image/png": "[encoded data removed]",
            "text/plain": [
              "<Figure size 720x504 with 1 Axes>"
            ]
          },
          "metadata": {
            "tags": []
          }
        }
      ]
    },
    {
      "cell_type": "markdown",
      "metadata": {
        "id": "YA1Wptkosjkz"
      },
      "source": [
        "**First Submission File**"
      ]
    },
    {
      "cell_type": "code",
      "metadata": {
        "id": "0177IeBgtCe4"
      },
      "source": [
        "y_n = y_n.drop('Status', axis = 1 )\n",
        "predictions = final_model.predict(y_n)"
      ],
      "execution_count": 119,
      "outputs": []
    },
    {
      "cell_type": "code",
      "metadata": {
        "id": "3ztU6VovD4Ad"
      },
      "source": [
        "len(test.ID == predictions)"
      ],
      "execution_count": 2,
      "outputs": []
    },
    {
      "cell_type": "code",
      "metadata": {
        "id": "r3YqrSOwv8Fu"
      },
      "source": [
        "sub_file = ssn.copy()"
      ],
      "execution_count": 123,
      "outputs": []
    },
    {
      "cell_type": "code",
      "metadata": {
        "id": "NemvGNHTv-94"
      },
      "source": [
        "submit = pd.DataFrame({'id':test.ID,'target': predictions}) \n",
        "submit.to_csv('lr_sumbo.csv',index=False) "
      ],
      "execution_count": 125,
      "outputs": []
    }
  ]
}